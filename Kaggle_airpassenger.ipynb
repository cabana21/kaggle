{
 "cells": [
  {
   "cell_type": "code",
   "execution_count": 5,
   "metadata": {},
   "outputs": [],
   "source": [
    "import numpy as np\n",
    "import pandas as pd\n",
    "import matplotlib.pyplot as plt"
   ]
  },
  {
   "cell_type": "code",
   "execution_count": 2,
   "metadata": {},
   "outputs": [],
   "source": [
    "df = pd.read_csv('C:/Users/caban/Desktop/data_science/kaggle/Air_Passengers/AirPassengers.csv')"
   ]
  },
  {
   "cell_type": "code",
   "execution_count": 3,
   "metadata": {},
   "outputs": [
    {
     "data": {
      "text/html": [
       "<div>\n",
       "<table border=\"1\" class=\"dataframe\">\n",
       "  <thead>\n",
       "    <tr style=\"text-align: right;\">\n",
       "      <th></th>\n",
       "      <th>Month</th>\n",
       "      <th>#Passengers</th>\n",
       "    </tr>\n",
       "  </thead>\n",
       "  <tbody>\n",
       "    <tr>\n",
       "      <th>0</th>\n",
       "      <td>1949-01</td>\n",
       "      <td>112</td>\n",
       "    </tr>\n",
       "    <tr>\n",
       "      <th>1</th>\n",
       "      <td>1949-02</td>\n",
       "      <td>118</td>\n",
       "    </tr>\n",
       "    <tr>\n",
       "      <th>2</th>\n",
       "      <td>1949-03</td>\n",
       "      <td>132</td>\n",
       "    </tr>\n",
       "    <tr>\n",
       "      <th>3</th>\n",
       "      <td>1949-04</td>\n",
       "      <td>129</td>\n",
       "    </tr>\n",
       "    <tr>\n",
       "      <th>4</th>\n",
       "      <td>1949-05</td>\n",
       "      <td>121</td>\n",
       "    </tr>\n",
       "  </tbody>\n",
       "</table>\n",
       "</div>"
      ],
      "text/plain": [
       "     Month  #Passengers\n",
       "0  1949-01          112\n",
       "1  1949-02          118\n",
       "2  1949-03          132\n",
       "3  1949-04          129\n",
       "4  1949-05          121"
      ]
     },
     "execution_count": 3,
     "metadata": {},
     "output_type": "execute_result"
    }
   ],
   "source": [
    "df.head()"
   ]
  },
  {
   "cell_type": "code",
   "execution_count": 11,
   "metadata": {},
   "outputs": [
    {
     "data": {
      "text/plain": [
       "array([[<matplotlib.axes._subplots.AxesSubplot object at 0x000001E0E8CD1470>]],\n",
       "      dtype=object)"
      ]
     },
     "execution_count": 11,
     "metadata": {},
     "output_type": "execute_result"
    },
    {
     "data": {
      "image/png": "[encoded data removed]",
      "text/plain": [
       "<Figure size 432x288 with 1 Axes>"
      ]
     },
     "metadata": {},
     "output_type": "display_data"
    }
   ],
   "source": [
    "df.hist(['#Passengers'],)"
   ]
  },
  {
   "cell_type": "code",
   "execution_count": 13,
   "metadata": {},
   "outputs": [],
   "source": [
    "df['Passengers'] = df['#Passengers']"
   ]
  },
  {
   "cell_type": "code",
   "execution_count": 14,
   "metadata": {},
   "outputs": [],
   "source": [
    "df.drop('#Passengers', axis=1, inplace=True)"
   ]
  },
  {
   "cell_type": "code",
   "execution_count": 15,
   "metadata": {},
   "outputs": [
    {
     "data": {
      "text/html": [
       "<div>\n",
       "<table border=\"1\" class=\"dataframe\">\n",
       "  <thead>\n",
       "    <tr style=\"text-align: right;\">\n",
       "      <th></th>\n",
       "      <th>Month</th>\n",
       "      <th>Passengers</th>\n",
       "    </tr>\n",
       "  </thead>\n",
       "  <tbody>\n",
       "    <tr>\n",
       "      <th>0</th>\n",
       "      <td>1949-01</td>\n",
       "      <td>112</td>\n",
       "    </tr>\n",
       "    <tr>\n",
       "      <th>1</th>\n",
       "      <td>1949-02</td>\n",
       "      <td>118</td>\n",
       "    </tr>\n",
       "    <tr>\n",
       "      <th>2</th>\n",
       "      <td>1949-03</td>\n",
       "      <td>132</td>\n",
       "    </tr>\n",
       "    <tr>\n",
       "      <th>3</th>\n",
       "      <td>1949-04</td>\n",
       "      <td>129</td>\n",
       "    </tr>\n",
       "    <tr>\n",
       "      <th>4</th>\n",
       "      <td>1949-05</td>\n",
       "      <td>121</td>\n",
       "    </tr>\n",
       "    <tr>\n",
       "      <th>5</th>\n",
       "      <td>1949-06</td>\n",
       "      <td>135</td>\n",
       "    </tr>\n",
       "    <tr>\n",
       "      <th>6</th>\n",
       "      <td>1949-07</td>\n",
       "      <td>148</td>\n",
       "    </tr>\n",
       "    <tr>\n",
       "      <th>7</th>\n",
       "      <td>1949-08</td>\n",
       "      <td>148</td>\n",
       "    </tr>\n",
       "    <tr>\n",
       "      <th>8</th>\n",
       "      <td>1949-09</td>\n",
       "      <td>136</td>\n",
       "    </tr>\n",
       "    <tr>\n",
       "      <th>9</th>\n",
       "      <td>1949-10</td>\n",
       "      <td>119</td>\n",
       "    </tr>\n",
       "    <tr>\n",
       "      <th>10</th>\n",
       "      <td>1949-11</td>\n",
       "      <td>104</td>\n",
       "    </tr>\n",
       "    <tr>\n",
       "      <th>11</th>\n",
       "      <td>1949-12</td>\n",
       "      <td>118</td>\n",
       "    </tr>\n",
       "    <tr>\n",
       "      <th>12</th>\n",
       "      <td>1950-01</td>\n",
       "      <td>115</td>\n",
       "    </tr>\n",
       "    <tr>\n",
       "      <th>13</th>\n",
       "      <td>1950-02</td>\n",
       "      <td>126</td>\n",
       "    </tr>\n",
       "    <tr>\n",
       "      <th>14</th>\n",
       "      <td>1950-03</td>\n",
       "      <td>141</td>\n",
       "    </tr>\n",
       "    <tr>\n",
       "      <th>15</th>\n",
       "      <td>1950-04</td>\n",
       "      <td>135</td>\n",
       "    </tr>\n",
       "    <tr>\n",
       "      <th>16</th>\n",
       "      <td>1950-05</td>\n",
       "      <td>125</td>\n",
       "    </tr>\n",
       "    <tr>\n",
       "      <th>17</th>\n",
       "      <td>1950-06</td>\n",
       "      <td>149</td>\n",
       "    </tr>\n",
       "    <tr>\n",
       "      <th>18</th>\n",
       "      <td>1950-07</td>\n",
       "      <td>170</td>\n",
       "    </tr>\n",
       "    <tr>\n",
       "      <th>19</th>\n",
       "      <td>1950-08</td>\n",
       "      <td>170</td>\n",
       "    </tr>\n",
       "    <tr>\n",
       "      <th>20</th>\n",
       "      <td>1950-09</td>\n",
       "      <td>158</td>\n",
       "    </tr>\n",
       "    <tr>\n",
       "      <th>21</th>\n",
       "      <td>1950-10</td>\n",
       "      <td>133</td>\n",
       "    </tr>\n",
       "    <tr>\n",
       "      <th>22</th>\n",
       "      <td>1950-11</td>\n",
       "      <td>114</td>\n",
       "    </tr>\n",
       "    <tr>\n",
       "      <th>23</th>\n",
       "      <td>1950-12</td>\n",
       "      <td>140</td>\n",
       "    </tr>\n",
       "    <tr>\n",
       "      <th>24</th>\n",
       "      <td>1951-01</td>\n",
       "      <td>145</td>\n",
       "    </tr>\n",
       "    <tr>\n",
       "      <th>25</th>\n",
       "      <td>1951-02</td>\n",
       "      <td>150</td>\n",
       "    </tr>\n",
       "    <tr>\n",
       "      <th>26</th>\n",
       "      <td>1951-03</td>\n",
       "      <td>178</td>\n",
       "    </tr>\n",
       "    <tr>\n",
       "      <th>27</th>\n",
       "      <td>1951-04</td>\n",
       "      <td>163</td>\n",
       "    </tr>\n",
       "    <tr>\n",
       "      <th>28</th>\n",
       "      <td>1951-05</td>\n",
       "      <td>172</td>\n",
       "    </tr>\n",
       "    <tr>\n",
       "      <th>29</th>\n",
       "      <td>1951-06</td>\n",
       "      <td>178</td>\n",
       "    </tr>\n",
       "    <tr>\n",
       "      <th>...</th>\n",
       "      <td>...</td>\n",
       "      <td>...</td>\n",
       "    </tr>\n",
       "    <tr>\n",
       "      <th>114</th>\n",
       "      <td>1958-07</td>\n",
       "      <td>491</td>\n",
       "    </tr>\n",
       "    <tr>\n",
       "      <th>115</th>\n",
       "      <td>1958-08</td>\n",
       "      <td>505</td>\n",
       "    </tr>\n",
       "    <tr>\n",
       "      <th>116</th>\n",
       "      <td>1958-09</td>\n",
       "      <td>404</td>\n",
       "    </tr>\n",
       "    <tr>\n",
       "      <th>117</th>\n",
       "      <td>1958-10</td>\n",
       "      <td>359</td>\n",
       "    </tr>\n",
       "    <tr>\n",
       "      <th>118</th>\n",
       "      <td>1958-11</td>\n",
       "      <td>310</td>\n",
       "    </tr>\n",
       "    <tr>\n",
       "      <th>119</th>\n",
       "      <td>1958-12</td>\n",
       "      <td>337</td>\n",
       "    </tr>\n",
       "    <tr>\n",
       "      <th>120</th>\n",
       "      <td>1959-01</td>\n",
       "      <td>360</td>\n",
       "    </tr>\n",
       "    <tr>\n",
       "      <th>121</th>\n",
       "      <td>1959-02</td>\n",
       "      <td>342</td>\n",
       "    </tr>\n",
       "    <tr>\n",
       "      <th>122</th>\n",
       "      <td>1959-03</td>\n",
       "      <td>406</td>\n",
       "    </tr>\n",
       "    <tr>\n",
       "      <th>123</th>\n",
       "      <td>1959-04</td>\n",
       "      <td>396</td>\n",
       "    </tr>\n",
       "    <tr>\n",
       "      <th>124</th>\n",
       "      <td>1959-05</td>\n",
       "      <td>420</td>\n",
       "    </tr>\n",
       "    <tr>\n",
       "      <th>125</th>\n",
       "      <td>1959-06</td>\n",
       "      <td>472</td>\n",
       "    </tr>\n",
       "    <tr>\n",
       "      <th>126</th>\n",
       "      <td>1959-07</td>\n",
       "      <td>548</td>\n",
       "    </tr>\n",
       "    <tr>\n",
       "      <th>127</th>\n",
       "      <td>1959-08</td>\n",
       "      <td>559</td>\n",
       "    </tr>\n",
       "    <tr>\n",
       "      <th>128</th>\n",
       "      <td>1959-09</td>\n",
       "      <td>463</td>\n",
       "    </tr>\n",
       "    <tr>\n",
       "      <th>129</th>\n",
       "      <td>1959-10</td>\n",
       "      <td>407</td>\n",
       "    </tr>\n",
       "    <tr>\n",
       "      <th>130</th>\n",
       "      <td>1959-11</td>\n",
       "      <td>362</td>\n",
       "    </tr>\n",
       "    <tr>\n",
       "      <th>131</th>\n",
       "      <td>1959-12</td>\n",
       "      <td>405</td>\n",
       "    </tr>\n",
       "    <tr>\n",
       "      <th>132</th>\n",
       "      <td>1960-01</td>\n",
       "      <td>417</td>\n",
       "    </tr>\n",
       "    <tr>\n",
       "      <th>133</th>\n",
       "      <td>1960-02</td>\n",
       "      <td>391</td>\n",
       "    </tr>\n",
       "    <tr>\n",
       "      <th>134</th>\n",
       "      <td>1960-03</td>\n",
       "      <td>419</td>\n",
       "    </tr>\n",
       "    <tr>\n",
       "      <th>135</th>\n",
       "      <td>1960-04</td>\n",
       "      <td>461</td>\n",
       "    </tr>\n",
       "    <tr>\n",
       "      <th>136</th>\n",
       "      <td>1960-05</td>\n",
       "      <td>472</td>\n",
       "    </tr>\n",
       "    <tr>\n",
       "      <th>137</th>\n",
       "      <td>1960-06</td>\n",
       "      <td>535</td>\n",
       "    </tr>\n",
       "    <tr>\n",
       "      <th>138</th>\n",
       "      <td>1960-07</td>\n",
       "      <td>622</td>\n",
       "    </tr>\n",
       "    <tr>\n",
       "      <th>139</th>\n",
       "      <td>1960-08</td>\n",
       "      <td>606</td>\n",
       "    </tr>\n",
       "    <tr>\n",
       "      <th>140</th>\n",
       "      <td>1960-09</td>\n",
       "      <td>508</td>\n",
       "    </tr>\n",
       "    <tr>\n",
       "      <th>141</th>\n",
       "      <td>1960-10</td>\n",
       "      <td>461</td>\n",
       "    </tr>\n",
       "    <tr>\n",
       "      <th>142</th>\n",
       "      <td>1960-11</td>\n",
       "      <td>390</td>\n",
       "    </tr>\n",
       "    <tr>\n",
       "      <th>143</th>\n",
       "      <td>1960-12</td>\n",
       "      <td>432</td>\n",
       "    </tr>\n",
       "  </tbody>\n",
       "</table>\n",
       "<p>144 rows × 2 columns</p>\n",
       "</div>"
      ],
      "text/plain": [
       "       Month  Passengers\n",
       "0    1949-01         112\n",
       "1    1949-02         118\n",
       "2    1949-03         132\n",
       "3    1949-04         129\n",
       "4    1949-05         121\n",
       "5    1949-06         135\n",
       "6    1949-07         148\n",
       "7    1949-08         148\n",
       "8    1949-09         136\n",
       "9    1949-10         119\n",
       "10   1949-11         104\n",
       "11   1949-12         118\n",
       "12   1950-01         115\n",
       "13   1950-02         126\n",
       "14   1950-03         141\n",
       "15   1950-04         135\n",
       "16   1950-05         125\n",
       "17   1950-06         149\n",
       "18   1950-07         170\n",
       "19   1950-08         170\n",
       "20   1950-09         158\n",
       "21   1950-10         133\n",
       "22   1950-11         114\n",
       "23   1950-12         140\n",
       "24   1951-01         145\n",
       "25   1951-02         150\n",
       "26   1951-03         178\n",
       "27   1951-04         163\n",
       "28   1951-05         172\n",
       "29   1951-06         178\n",
       "..       ...         ...\n",
       "114  1958-07         491\n",
       "115  1958-08         505\n",
       "116  1958-09         404\n",
       "117  1958-10         359\n",
       "118  1958-11         310\n",
       "119  1958-12         337\n",
       "120  1959-01         360\n",
       "121  1959-02         342\n",
       "122  1959-03         406\n",
       "123  1959-04         396\n",
       "124  1959-05         420\n",
       "125  1959-06         472\n",
       "126  1959-07         548\n",
       "127  1959-08         559\n",
       "128  1959-09         463\n",
       "129  1959-10         407\n",
       "130  1959-11         362\n",
       "131  1959-12         405\n",
       "132  1960-01         417\n",
       "133  1960-02         391\n",
       "134  1960-03         419\n",
       "135  1960-04         461\n",
       "136  1960-05         472\n",
       "137  1960-06         535\n",
       "138  1960-07         622\n",
       "139  1960-08         606\n",
       "140  1960-09         508\n",
       "141  1960-10         461\n",
       "142  1960-11         390\n",
       "143  1960-12         432\n",
       "\n",
       "[144 rows x 2 columns]"
      ]
     },
     "execution_count": 15,
     "metadata": {},
     "output_type": "execute_result"
    }
   ],
   "source": [
    "df"
   ]
  },
  {
   "cell_type": "code",
   "execution_count": 16,
   "metadata": {},
   "outputs": [],
   "source": [
    "df['Date'] = df['Month']"
   ]
  },
  {
   "cell_type": "code",
   "execution_count": 17,
   "metadata": {},
   "outputs": [],
   "source": [
    "df.drop('Month', axis=1, inplace=True)"
   ]
  },
  {
   "cell_type": "code",
   "execution_count": 24,
   "metadata": {},
   "outputs": [],
   "source": [
    "df['Month'] = df['Date'][:][3:]"
   ]
  },
  {
   "cell_type": "code",
   "execution_count": 25,
   "metadata": {},
   "outputs": [
    {
     "data": {
      "text/html": [
       "<div>\n",
       "<table border=\"1\" class=\"dataframe\">\n",
       "  <thead>\n",
       "    <tr style=\"text-align: right;\">\n",
       "      <th></th>\n",
       "      <th>Passengers</th>\n",
       "      <th>Date</th>\n",
       "      <th>Month</th>\n",
       "    </tr>\n",
       "  </thead>\n",
       "  <tbody>\n",
       "    <tr>\n",
       "      <th>0</th>\n",
       "      <td>112</td>\n",
       "      <td>1949-01</td>\n",
       "      <td>NaN</td>\n",
       "    </tr>\n",
       "    <tr>\n",
       "      <th>1</th>\n",
       "      <td>118</td>\n",
       "      <td>1949-02</td>\n",
       "      <td>NaN</td>\n",
       "    </tr>\n",
       "    <tr>\n",
       "      <th>2</th>\n",
       "      <td>132</td>\n",
       "      <td>1949-03</td>\n",
       "      <td>NaN</td>\n",
       "    </tr>\n",
       "    <tr>\n",
       "      <th>3</th>\n",
       "      <td>129</td>\n",
       "      <td>1949-04</td>\n",
       "      <td>1949-04</td>\n",
       "    </tr>\n",
       "    <tr>\n",
       "      <th>4</th>\n",
       "      <td>121</td>\n",
       "      <td>1949-05</td>\n",
       "      <td>1949-05</td>\n",
       "    </tr>\n",
       "  </tbody>\n",
       "</table>\n",
       "</div>"
      ],
      "text/plain": [
       "   Passengers     Date    Month\n",
       "0         112  1949-01      NaN\n",
       "1         118  1949-02      NaN\n",
       "2         132  1949-03      NaN\n",
       "3         129  1949-04  1949-04\n",
       "4         121  1949-05  1949-05"
      ]
     },
     "execution_count": 25,
     "metadata": {},
     "output_type": "execute_result"
    }
   ],
   "source": [
    "df.head()"
   ]
  },
  {
   "cell_type": "code",
   "execution_count": 26,
   "metadata": {},
   "outputs": [
    {
     "data": {
      "text/plain": [
       "0      1949-01\n",
       "1      1949-02\n",
       "2      1949-03\n",
       "3      1949-04\n",
       "4      1949-05\n",
       "5      1949-06\n",
       "6      1949-07\n",
       "7      1949-08\n",
       "8      1949-09\n",
       "9      1949-10\n",
       "10     1949-11\n",
       "11     1949-12\n",
       "12     1950-01\n",
       "13     1950-02\n",
       "14     1950-03\n",
       "15     1950-04\n",
       "16     1950-05\n",
       "17     1950-06\n",
       "18     1950-07\n",
       "19     1950-08\n",
       "20     1950-09\n",
       "21     1950-10\n",
       "22     1950-11\n",
       "23     1950-12\n",
       "24     1951-01\n",
       "25     1951-02\n",
       "26     1951-03\n",
       "27     1951-04\n",
       "28     1951-05\n",
       "29     1951-06\n",
       "        ...   \n",
       "114    1958-07\n",
       "115    1958-08\n",
       "116    1958-09\n",
       "117    1958-10\n",
       "118    1958-11\n",
       "119    1958-12\n",
       "120    1959-01\n",
       "121    1959-02\n",
       "122    1959-03\n",
       "123    1959-04\n",
       "124    1959-05\n",
       "125    1959-06\n",
       "126    1959-07\n",
       "127    1959-08\n",
       "128    1959-09\n",
       "129    1959-10\n",
       "130    1959-11\n",
       "131    1959-12\n",
       "132    1960-01\n",
       "133    1960-02\n",
       "134    1960-03\n",
       "135    1960-04\n",
       "136    1960-05\n",
       "137    1960-06\n",
       "138    1960-07\n",
       "139    1960-08\n",
       "140    1960-09\n",
       "141    1960-10\n",
       "142    1960-11\n",
       "143    1960-12\n",
       "Name: Date, dtype: object"
      ]
     },
     "execution_count": 26,
     "metadata": {},
     "output_type": "execute_result"
    }
   ],
   "source": [
    "df['Date']"
   ]
  },
  {
   "cell_type": "code",
   "execution_count": 27,
   "metadata": {},
   "outputs": [
    {
     "ename": "AttributeError",
     "evalue": "'Series' object has no attribute 'asarray'",
     "output_type": "error",
     "traceback": [
      "\u001b[1;31m---------------------------------------------------------------------------\u001b[0m",
      "\u001b[1;31mAttributeError\u001b[0m                            Traceback (most recent call last)",
      "\u001b[1;32m<ipython-input-27-604d6eb51c17>\u001b[0m in \u001b[0;36m<module>\u001b[1;34m()\u001b[0m\n\u001b[1;32m----> 1\u001b[1;33m \u001b[0mdf\u001b[0m\u001b[1;33m[\u001b[0m\u001b[1;34m'Date'\u001b[0m\u001b[1;33m]\u001b[0m\u001b[1;33m.\u001b[0m\u001b[0masarray\u001b[0m\u001b[1;33m(\u001b[0m\u001b[1;33m)\u001b[0m\u001b[1;33m\u001b[0m\u001b[0m\n\u001b[0m",
      "\u001b[1;32m~\\Anaconda3\\lib\\site-packages\\pandas\\core\\generic.py\u001b[0m in \u001b[0;36m__getattr__\u001b[1;34m(self, name)\u001b[0m\n\u001b[0;32m   2670\u001b[0m             \u001b[1;32mif\u001b[0m \u001b[0mname\u001b[0m \u001b[1;32min\u001b[0m \u001b[0mself\u001b[0m\u001b[1;33m.\u001b[0m\u001b[0m_info_axis\u001b[0m\u001b[1;33m:\u001b[0m\u001b[1;33m\u001b[0m\u001b[0m\n\u001b[0;32m   2671\u001b[0m                 \u001b[1;32mreturn\u001b[0m \u001b[0mself\u001b[0m\u001b[1;33m[\u001b[0m\u001b[0mname\u001b[0m\u001b[1;33m]\u001b[0m\u001b[1;33m\u001b[0m\u001b[0m\n\u001b[1;32m-> 2672\u001b[1;33m             \u001b[1;32mreturn\u001b[0m \u001b[0mobject\u001b[0m\u001b[1;33m.\u001b[0m\u001b[0m__getattribute__\u001b[0m\u001b[1;33m(\u001b[0m\u001b[0mself\u001b[0m\u001b[1;33m,\u001b[0m \u001b[0mname\u001b[0m\u001b[1;33m)\u001b[0m\u001b[1;33m\u001b[0m\u001b[0m\n\u001b[0m\u001b[0;32m   2673\u001b[0m \u001b[1;33m\u001b[0m\u001b[0m\n\u001b[0;32m   2674\u001b[0m     \u001b[1;32mdef\u001b[0m \u001b[0m__setattr__\u001b[0m\u001b[1;33m(\u001b[0m\u001b[0mself\u001b[0m\u001b[1;33m,\u001b[0m \u001b[0mname\u001b[0m\u001b[1;33m,\u001b[0m \u001b[0mvalue\u001b[0m\u001b[1;33m)\u001b[0m\u001b[1;33m:\u001b[0m\u001b[1;33m\u001b[0m\u001b[0m\n",
      "\u001b[1;31mAttributeError\u001b[0m: 'Series' object has no attribute 'asarray'"
     ]
    }
   ],
   "source": [
    "df['Date'].asarray()"
   ]
  },
  {
   "cell_type": "code",
   "execution_count": 28,
   "metadata": {},
   "outputs": [
    {
     "data": {
      "text/plain": [
       "array(['1949-01', '1949-02', '1949-03', '1949-04', '1949-05', '1949-06',\n",
       "       '1949-07', '1949-08', '1949-09', '1949-10', '1949-11', '1949-12',\n",
       "       '1950-01', '1950-02', '1950-03', '1950-04', '1950-05', '1950-06',\n",
       "       '1950-07', '1950-08', '1950-09', '1950-10', '1950-11', '1950-12',\n",
       "       '1951-01', '1951-02', '1951-03', '1951-04', '1951-05', '1951-06',\n",
       "       '1951-07', '1951-08', '1951-09', '1951-10', '1951-11', '1951-12',\n",
       "       '1952-01', '1952-02', '1952-03', '1952-04', '1952-05', '1952-06',\n",
       "       '1952-07', '1952-08', '1952-09', '1952-10', '1952-11', '1952-12',\n",
       "       '1953-01', '1953-02', '1953-03', '1953-04', '1953-05', '1953-06',\n",
       "       '1953-07', '1953-08', '1953-09', '1953-10', '1953-11', '1953-12',\n",
       "       '1954-01', '1954-02', '1954-03', '1954-04', '1954-05', '1954-06',\n",
       "       '1954-07', '1954-08', '1954-09', '1954-10', '1954-11', '1954-12',\n",
       "       '1955-01', '1955-02', '1955-03', '1955-04', '1955-05', '1955-06',\n",
       "       '1955-07', '1955-08', '1955-09', '1955-10', '1955-11', '1955-12',\n",
       "       '1956-01', '1956-02', '1956-03', '1956-04', '1956-05', '1956-06',\n",
       "       '1956-07', '1956-08', '1956-09', '1956-10', '1956-11', '1956-12',\n",
       "       '1957-01', '1957-02', '1957-03', '1957-04', '1957-05', '1957-06',\n",
       "       '1957-07', '1957-08', '1957-09', '1957-10', '1957-11', '1957-12',\n",
       "       '1958-01', '1958-02', '1958-03', '1958-04', '1958-05', '1958-06',\n",
       "       '1958-07', '1958-08', '1958-09', '1958-10', '1958-11', '1958-12',\n",
       "       '1959-01', '1959-02', '1959-03', '1959-04', '1959-05', '1959-06',\n",
       "       '1959-07', '1959-08', '1959-09', '1959-10', '1959-11', '1959-12',\n",
       "       '1960-01', '1960-02', '1960-03', '1960-04', '1960-05', '1960-06',\n",
       "       '1960-07', '1960-08', '1960-09', '1960-10', '1960-11', '1960-12'],\n",
       "      dtype=object)"
      ]
     },
     "execution_count": 28,
     "metadata": {},
     "output_type": "execute_result"
    }
   ],
   "source": [
    "np.array(df['Date'])"
   ]
  },
  {
   "cell_type": "code",
   "execution_count": 29,
   "metadata": {},
   "outputs": [],
   "source": [
    "date_array = np.array(df['Date'])"
   ]
  },
  {
   "cell_type": "code",
   "execution_count": 30,
   "metadata": {},
   "outputs": [
    {
     "data": {
      "text/plain": [
       "array(['1949-06'], dtype=object)"
      ]
     },
     "execution_count": 30,
     "metadata": {},
     "output_type": "execute_result"
    }
   ],
   "source": [
    "date_array[:][5:6]"
   ]
  },
  {
   "cell_type": "code",
   "execution_count": 31,
   "metadata": {},
   "outputs": [
    {
     "data": {
      "text/plain": [
       "[array(['1949-01', '1949-02', '1949-03', '1949-04', '1949-05', '1949-06',\n",
       "        '1949-07', '1949-08', '1949-09', '1949-10', '1949-11', '1949-12'],\n",
       "       dtype=object),\n",
       " array(['1950-01', '1950-02', '1950-03', '1950-04', '1950-05', '1950-06',\n",
       "        '1950-07', '1950-08', '1950-09', '1950-10', '1950-11', '1950-12'],\n",
       "       dtype=object),\n",
       " array(['1951-01', '1951-02', '1951-03', '1951-04', '1951-05', '1951-06',\n",
       "        '1951-07', '1951-08', '1951-09', '1951-10', '1951-11', '1951-12'],\n",
       "       dtype=object),\n",
       " array(['1952-01', '1952-02', '1952-03', '1952-04', '1952-05', '1952-06',\n",
       "        '1952-07', '1952-08', '1952-09', '1952-10', '1952-11', '1952-12'],\n",
       "       dtype=object),\n",
       " array(['1953-01', '1953-02', '1953-03', '1953-04', '1953-05', '1953-06',\n",
       "        '1953-07', '1953-08', '1953-09', '1953-10', '1953-11', '1953-12'],\n",
       "       dtype=object),\n",
       " array(['1954-01', '1954-02', '1954-03', '1954-04', '1954-05', '1954-06',\n",
       "        '1954-07', '1954-08', '1954-09', '1954-10', '1954-11', '1954-12'],\n",
       "       dtype=object),\n",
       " array(['1955-01', '1955-02', '1955-03', '1955-04', '1955-05', '1955-06',\n",
       "        '1955-07', '1955-08', '1955-09', '1955-10', '1955-11', '1955-12'],\n",
       "       dtype=object),\n",
       " array(['1956-01', '1956-02', '1956-03', '1956-04', '1956-05', '1956-06',\n",
       "        '1956-07', '1956-08', '1956-09', '1956-10', '1956-11', '1956-12'],\n",
       "       dtype=object),\n",
       " array(['1957-01', '1957-02', '1957-03', '1957-04', '1957-05', '1957-06',\n",
       "        '1957-07', '1957-08', '1957-09', '1957-10', '1957-11', '1957-12'],\n",
       "       dtype=object),\n",
       " array(['1958-01', '1958-02', '1958-03', '1958-04', '1958-05', '1958-06',\n",
       "        '1958-07', '1958-08', '1958-09', '1958-10', '1958-11', '1958-12'],\n",
       "       dtype=object),\n",
       " array(['1959-01', '1959-02', '1959-03', '1959-04', '1959-05', '1959-06',\n",
       "        '1959-07', '1959-08', '1959-09', '1959-10', '1959-11', '1959-12'],\n",
       "       dtype=object),\n",
       " array(['1960-01', '1960-02', '1960-03', '1960-04', '1960-05', '1960-06',\n",
       "        '1960-07', '1960-08', '1960-09', '1960-10', '1960-11', '1960-12'],\n",
       "       dtype=object)]"
      ]
     },
     "execution_count": 31,
     "metadata": {},
     "output_type": "execute_result"
    }
   ],
   "source": [
    "np.split(date_array, 12)"
   ]
  },
  {
   "cell_type": "code",
   "execution_count": 32,
   "metadata": {},
   "outputs": [
    {
     "data": {
      "text/plain": [
       "array(['1949-01', '1949-02', '1949-03', '1949-04', '1949-05', '1949-06',\n",
       "       '1949-07', '1949-08', '1949-09', '1949-10', '1949-11', '1949-12',\n",
       "       '1950-01', '1950-02', '1950-03', '1950-04', '1950-05', '1950-06',\n",
       "       '1950-07', '1950-08', '1950-09', '1950-10', '1950-11', '1950-12',\n",
       "       '1951-01', '1951-02', '1951-03', '1951-04', '1951-05', '1951-06',\n",
       "       '1951-07', '1951-08', '1951-09', '1951-10', '1951-11', '1951-12',\n",
       "       '1952-01', '1952-02', '1952-03', '1952-04', '1952-05', '1952-06',\n",
       "       '1952-07', '1952-08', '1952-09', '1952-10', '1952-11', '1952-12',\n",
       "       '1953-01', '1953-02', '1953-03', '1953-04', '1953-05', '1953-06',\n",
       "       '1953-07', '1953-08', '1953-09', '1953-10', '1953-11', '1953-12',\n",
       "       '1954-01', '1954-02', '1954-03', '1954-04', '1954-05', '1954-06',\n",
       "       '1954-07', '1954-08', '1954-09', '1954-10', '1954-11', '1954-12',\n",
       "       '1955-01', '1955-02', '1955-03', '1955-04', '1955-05', '1955-06',\n",
       "       '1955-07', '1955-08', '1955-09', '1955-10', '1955-11', '1955-12',\n",
       "       '1956-01', '1956-02', '1956-03', '1956-04', '1956-05', '1956-06',\n",
       "       '1956-07', '1956-08', '1956-09', '1956-10', '1956-11', '1956-12',\n",
       "       '1957-01', '1957-02', '1957-03', '1957-04', '1957-05', '1957-06',\n",
       "       '1957-07', '1957-08', '1957-09', '1957-10', '1957-11', '1957-12',\n",
       "       '1958-01', '1958-02', '1958-03', '1958-04', '1958-05', '1958-06',\n",
       "       '1958-07', '1958-08', '1958-09', '1958-10', '1958-11', '1958-12',\n",
       "       '1959-01', '1959-02', '1959-03', '1959-04', '1959-05', '1959-06',\n",
       "       '1959-07', '1959-08', '1959-09', '1959-10', '1959-11', '1959-12',\n",
       "       '1960-01', '1960-02', '1960-03', '1960-04', '1960-05', '1960-06',\n",
       "       '1960-07', '1960-08', '1960-09', '1960-10', '1960-11', '1960-12'],\n",
       "      dtype=object)"
      ]
     },
     "execution_count": 32,
     "metadata": {},
     "output_type": "execute_result"
    }
   ],
   "source": [
    "date_array"
   ]
  },
  {
   "cell_type": "code",
   "execution_count": 33,
   "metadata": {},
   "outputs": [],
   "source": [
    "date_array_splited = np.split(date_array, 12)"
   ]
  },
  {
   "cell_type": "code",
   "execution_count": 35,
   "metadata": {},
   "outputs": [
    {
     "data": {
      "text/plain": [
       "[array(['1949-01', '1949-02', '1949-03', '1949-04', '1949-05', '1949-06',\n",
       "        '1949-07', '1949-08', '1949-09', '1949-10', '1949-11', '1949-12'],\n",
       "       dtype=object),\n",
       " array(['1950-01', '1950-02', '1950-03', '1950-04', '1950-05', '1950-06',\n",
       "        '1950-07', '1950-08', '1950-09', '1950-10', '1950-11', '1950-12'],\n",
       "       dtype=object),\n",
       " array(['1951-01', '1951-02', '1951-03', '1951-04', '1951-05', '1951-06',\n",
       "        '1951-07', '1951-08', '1951-09', '1951-10', '1951-11', '1951-12'],\n",
       "       dtype=object),\n",
       " array(['1952-01', '1952-02', '1952-03', '1952-04', '1952-05', '1952-06',\n",
       "        '1952-07', '1952-08', '1952-09', '1952-10', '1952-11', '1952-12'],\n",
       "       dtype=object),\n",
       " array(['1953-01', '1953-02', '1953-03', '1953-04', '1953-05', '1953-06',\n",
       "        '1953-07', '1953-08', '1953-09', '1953-10', '1953-11', '1953-12'],\n",
       "       dtype=object),\n",
       " array(['1954-01', '1954-02', '1954-03', '1954-04', '1954-05', '1954-06',\n",
       "        '1954-07', '1954-08', '1954-09', '1954-10', '1954-11', '1954-12'],\n",
       "       dtype=object),\n",
       " array(['1955-01', '1955-02', '1955-03', '1955-04', '1955-05', '1955-06',\n",
       "        '1955-07', '1955-08', '1955-09', '1955-10', '1955-11', '1955-12'],\n",
       "       dtype=object),\n",
       " array(['1956-01', '1956-02', '1956-03', '1956-04', '1956-05', '1956-06',\n",
       "        '1956-07', '1956-08', '1956-09', '1956-10', '1956-11', '1956-12'],\n",
       "       dtype=object),\n",
       " array(['1957-01', '1957-02', '1957-03', '1957-04', '1957-05', '1957-06',\n",
       "        '1957-07', '1957-08', '1957-09', '1957-10', '1957-11', '1957-12'],\n",
       "       dtype=object),\n",
       " array(['1958-01', '1958-02', '1958-03', '1958-04', '1958-05', '1958-06',\n",
       "        '1958-07', '1958-08', '1958-09', '1958-10', '1958-11', '1958-12'],\n",
       "       dtype=object),\n",
       " array(['1959-01', '1959-02', '1959-03', '1959-04', '1959-05', '1959-06',\n",
       "        '1959-07', '1959-08', '1959-09', '1959-10', '1959-11', '1959-12'],\n",
       "       dtype=object),\n",
       " array(['1960-01', '1960-02', '1960-03', '1960-04', '1960-05', '1960-06',\n",
       "        '1960-07', '1960-08', '1960-09', '1960-10', '1960-11', '1960-12'],\n",
       "       dtype=object)]"
      ]
     },
     "execution_count": 35,
     "metadata": {},
     "output_type": "execute_result"
    }
   ],
   "source": [
    "date_array_splited"
   ]
  },
  {
   "cell_type": "code",
   "execution_count": 36,
   "metadata": {},
   "outputs": [
    {
     "data": {
      "text/plain": [
       "array([['1949-01', '1949-02', '1949-03', '1949-04', '1949-05', '1949-06',\n",
       "        '1949-07', '1949-08', '1949-09', '1949-10', '1949-11', '1949-12'],\n",
       "       ['1950-01', '1950-02', '1950-03', '1950-04', '1950-05', '1950-06',\n",
       "        '1950-07', '1950-08', '1950-09', '1950-10', '1950-11', '1950-12'],\n",
       "       ['1951-01', '1951-02', '1951-03', '1951-04', '1951-05', '1951-06',\n",
       "        '1951-07', '1951-08', '1951-09', '1951-10', '1951-11', '1951-12'],\n",
       "       ['1952-01', '1952-02', '1952-03', '1952-04', '1952-05', '1952-06',\n",
       "        '1952-07', '1952-08', '1952-09', '1952-10', '1952-11', '1952-12'],\n",
       "       ['1953-01', '1953-02', '1953-03', '1953-04', '1953-05', '1953-06',\n",
       "        '1953-07', '1953-08', '1953-09', '1953-10', '1953-11', '1953-12'],\n",
       "       ['1954-01', '1954-02', '1954-03', '1954-04', '1954-05', '1954-06',\n",
       "        '1954-07', '1954-08', '1954-09', '1954-10', '1954-11', '1954-12'],\n",
       "       ['1955-01', '1955-02', '1955-03', '1955-04', '1955-05', '1955-06',\n",
       "        '1955-07', '1955-08', '1955-09', '1955-10', '1955-11', '1955-12'],\n",
       "       ['1956-01', '1956-02', '1956-03', '1956-04', '1956-05', '1956-06',\n",
       "        '1956-07', '1956-08', '1956-09', '1956-10', '1956-11', '1956-12'],\n",
       "       ['1957-01', '1957-02', '1957-03', '1957-04', '1957-05', '1957-06',\n",
       "        '1957-07', '1957-08', '1957-09', '1957-10', '1957-11', '1957-12'],\n",
       "       ['1958-01', '1958-02', '1958-03', '1958-04', '1958-05', '1958-06',\n",
       "        '1958-07', '1958-08', '1958-09', '1958-10', '1958-11', '1958-12'],\n",
       "       ['1959-01', '1959-02', '1959-03', '1959-04', '1959-05', '1959-06',\n",
       "        '1959-07', '1959-08', '1959-09', '1959-10', '1959-11', '1959-12'],\n",
       "       ['1960-01', '1960-02', '1960-03', '1960-04', '1960-05', '1960-06',\n",
       "        '1960-07', '1960-08', '1960-09', '1960-10', '1960-11', '1960-12']],\n",
       "      dtype=object)"
      ]
     },
     "execution_count": 36,
     "metadata": {},
     "output_type": "execute_result"
    }
   ],
   "source": [
    "date_array.reshape(12, 12)"
   ]
  },
  {
   "cell_type": "code",
   "execution_count": 37,
   "metadata": {},
   "outputs": [],
   "source": [
    "date_array_reshaped = date_array.reshape(12, 12)"
   ]
  },
  {
   "cell_type": "code",
   "execution_count": 38,
   "metadata": {},
   "outputs": [
    {
     "data": {
      "text/plain": [
       "array([['1949-01', '1949-02', '1949-03', '1949-04', '1949-05', '1949-06',\n",
       "        '1949-07', '1949-08', '1949-09', '1949-10', '1949-11', '1949-12'],\n",
       "       ['1950-01', '1950-02', '1950-03', '1950-04', '1950-05', '1950-06',\n",
       "        '1950-07', '1950-08', '1950-09', '1950-10', '1950-11', '1950-12'],\n",
       "       ['1951-01', '1951-02', '1951-03', '1951-04', '1951-05', '1951-06',\n",
       "        '1951-07', '1951-08', '1951-09', '1951-10', '1951-11', '1951-12'],\n",
       "       ['1952-01', '1952-02', '1952-03', '1952-04', '1952-05', '1952-06',\n",
       "        '1952-07', '1952-08', '1952-09', '1952-10', '1952-11', '1952-12'],\n",
       "       ['1953-01', '1953-02', '1953-03', '1953-04', '1953-05', '1953-06',\n",
       "        '1953-07', '1953-08', '1953-09', '1953-10', '1953-11', '1953-12'],\n",
       "       ['1954-01', '1954-02', '1954-03', '1954-04', '1954-05', '1954-06',\n",
       "        '1954-07', '1954-08', '1954-09', '1954-10', '1954-11', '1954-12'],\n",
       "       ['1955-01', '1955-02', '1955-03', '1955-04', '1955-05', '1955-06',\n",
       "        '1955-07', '1955-08', '1955-09', '1955-10', '1955-11', '1955-12'],\n",
       "       ['1956-01', '1956-02', '1956-03', '1956-04', '1956-05', '1956-06',\n",
       "        '1956-07', '1956-08', '1956-09', '1956-10', '1956-11', '1956-12'],\n",
       "       ['1957-01', '1957-02', '1957-03', '1957-04', '1957-05', '1957-06',\n",
       "        '1957-07', '1957-08', '1957-09', '1957-10', '1957-11', '1957-12'],\n",
       "       ['1958-01', '1958-02', '1958-03', '1958-04', '1958-05', '1958-06',\n",
       "        '1958-07', '1958-08', '1958-09', '1958-10', '1958-11', '1958-12'],\n",
       "       ['1959-01', '1959-02', '1959-03', '1959-04', '1959-05', '1959-06',\n",
       "        '1959-07', '1959-08', '1959-09', '1959-10', '1959-11', '1959-12'],\n",
       "       ['1960-01', '1960-02', '1960-03', '1960-04', '1960-05', '1960-06',\n",
       "        '1960-07', '1960-08', '1960-09', '1960-10', '1960-11', '1960-12']],\n",
       "      dtype=object)"
      ]
     },
     "execution_count": 38,
     "metadata": {},
     "output_type": "execute_result"
    }
   ],
   "source": [
    "date_array_reshaped"
   ]
  },
  {
   "cell_type": "code",
   "execution_count": 39,
   "metadata": {},
   "outputs": [
    {
     "data": {
      "text/plain": [
       "matrix([['1949-01', '1949-02', '1949-03', '1949-04', '1949-05',\n",
       "         '1949-06', '1949-07', '1949-08', '1949-09', '1949-10',\n",
       "         '1949-11', '1949-12'],\n",
       "        ['1950-01', '1950-02', '1950-03', '1950-04', '1950-05',\n",
       "         '1950-06', '1950-07', '1950-08', '1950-09', '1950-10',\n",
       "         '1950-11', '1950-12'],\n",
       "        ['1951-01', '1951-02', '1951-03', '1951-04', '1951-05',\n",
       "         '1951-06', '1951-07', '1951-08', '1951-09', '1951-10',\n",
       "         '1951-11', '1951-12'],\n",
       "        ['1952-01', '1952-02', '1952-03', '1952-04', '1952-05',\n",
       "         '1952-06', '1952-07', '1952-08', '1952-09', '1952-10',\n",
       "         '1952-11', '1952-12'],\n",
       "        ['1953-01', '1953-02', '1953-03', '1953-04', '1953-05',\n",
       "         '1953-06', '1953-07', '1953-08', '1953-09', '1953-10',\n",
       "         '1953-11', '1953-12'],\n",
       "        ['1954-01', '1954-02', '1954-03', '1954-04', '1954-05',\n",
       "         '1954-06', '1954-07', '1954-08', '1954-09', '1954-10',\n",
       "         '1954-11', '1954-12'],\n",
       "        ['1955-01', '1955-02', '1955-03', '1955-04', '1955-05',\n",
       "         '1955-06', '1955-07', '1955-08', '1955-09', '1955-10',\n",
       "         '1955-11', '1955-12'],\n",
       "        ['1956-01', '1956-02', '1956-03', '1956-04', '1956-05',\n",
       "         '1956-06', '1956-07', '1956-08', '1956-09', '1956-10',\n",
       "         '1956-11', '1956-12'],\n",
       "        ['1957-01', '1957-02', '1957-03', '1957-04', '1957-05',\n",
       "         '1957-06', '1957-07', '1957-08', '1957-09', '1957-10',\n",
       "         '1957-11', '1957-12'],\n",
       "        ['1958-01', '1958-02', '1958-03', '1958-04', '1958-05',\n",
       "         '1958-06', '1958-07', '1958-08', '1958-09', '1958-10',\n",
       "         '1958-11', '1958-12'],\n",
       "        ['1959-01', '1959-02', '1959-03', '1959-04', '1959-05',\n",
       "         '1959-06', '1959-07', '1959-08', '1959-09', '1959-10',\n",
       "         '1959-11', '1959-12'],\n",
       "        ['1960-01', '1960-02', '1960-03', '1960-04', '1960-05',\n",
       "         '1960-06', '1960-07', '1960-08', '1960-09', '1960-10',\n",
       "         '1960-11', '1960-12']], dtype=object)"
      ]
     },
     "execution_count": 39,
     "metadata": {},
     "output_type": "execute_result"
    }
   ],
   "source": [
    "np.matrix(date_array_reshaped)"
   ]
  },
  {
   "cell_type": "code",
   "execution_count": 40,
   "metadata": {},
   "outputs": [
    {
     "data": {
      "text/plain": [
       "array(['1949-01', '1949-02', '1949-03', '1949-04', '1949-05', '1949-06',\n",
       "       '1949-07', '1949-08', '1949-09', '1949-10', '1949-11', '1949-12',\n",
       "       '1950-01', '1950-02', '1950-03', '1950-04', '1950-05', '1950-06',\n",
       "       '1950-07', '1950-08', '1950-09', '1950-10', '1950-11', '1950-12',\n",
       "       '1951-01', '1951-02', '1951-03', '1951-04', '1951-05', '1951-06',\n",
       "       '1951-07', '1951-08', '1951-09', '1951-10', '1951-11', '1951-12',\n",
       "       '1952-01', '1952-02', '1952-03', '1952-04', '1952-05', '1952-06',\n",
       "       '1952-07', '1952-08', '1952-09', '1952-10', '1952-11', '1952-12',\n",
       "       '1953-01', '1953-02', '1953-03', '1953-04', '1953-05', '1953-06',\n",
       "       '1953-07', '1953-08', '1953-09', '1953-10', '1953-11', '1953-12',\n",
       "       '1954-01', '1954-02', '1954-03', '1954-04', '1954-05', '1954-06',\n",
       "       '1954-07', '1954-08', '1954-09', '1954-10', '1954-11', '1954-12',\n",
       "       '1955-01', '1955-02', '1955-03', '1955-04', '1955-05', '1955-06',\n",
       "       '1955-07', '1955-08', '1955-09', '1955-10', '1955-11', '1955-12',\n",
       "       '1956-01', '1956-02', '1956-03', '1956-04', '1956-05', '1956-06',\n",
       "       '1956-07', '1956-08', '1956-09', '1956-10', '1956-11', '1956-12',\n",
       "       '1957-01', '1957-02', '1957-03', '1957-04', '1957-05', '1957-06',\n",
       "       '1957-07', '1957-08', '1957-09', '1957-10', '1957-11', '1957-12',\n",
       "       '1958-01', '1958-02', '1958-03', '1958-04', '1958-05', '1958-06',\n",
       "       '1958-07', '1958-08', '1958-09', '1958-10', '1958-11', '1958-12',\n",
       "       '1959-01', '1959-02', '1959-03', '1959-04', '1959-05', '1959-06',\n",
       "       '1959-07', '1959-08', '1959-09', '1959-10', '1959-11', '1959-12',\n",
       "       '1960-01', '1960-02', '1960-03', '1960-04', '1960-05', '1960-06',\n",
       "       '1960-07', '1960-08', '1960-09', '1960-10', '1960-11', '1960-12'],\n",
       "      dtype=object)"
      ]
     },
     "execution_count": 40,
     "metadata": {},
     "output_type": "execute_result"
    }
   ],
   "source": [
    "date_array"
   ]
  },
  {
   "cell_type": "code",
   "execution_count": 46,
   "metadata": {},
   "outputs": [
    {
     "ename": "IndexError",
     "evalue": "only integers, slices (`:`), ellipsis (`...`), numpy.newaxis (`None`) and integer or boolean arrays are valid indices",
     "output_type": "error",
     "traceback": [
      "\u001b[1;31m---------------------------------------------------------------------------\u001b[0m",
      "\u001b[1;31mIndexError\u001b[0m                                Traceback (most recent call last)",
      "\u001b[1;32m<ipython-input-46-2f36fc006c39>\u001b[0m in \u001b[0;36m<module>\u001b[1;34m()\u001b[0m\n\u001b[1;32m----> 1\u001b[1;33m \u001b[0mlist_month\u001b[0m \u001b[1;33m=\u001b[0m \u001b[1;33m[\u001b[0m\u001b[0mdate_array\u001b[0m\u001b[1;33m[\u001b[0m\u001b[0mi\u001b[0m\u001b[1;33m]\u001b[0m\u001b[1;33m[\u001b[0m\u001b[1;36m5\u001b[0m\u001b[1;33m:\u001b[0m\u001b[1;33m]\u001b[0m \u001b[1;32mfor\u001b[0m \u001b[0mi\u001b[0m \u001b[1;32min\u001b[0m \u001b[0mdate_array\u001b[0m\u001b[1;33m]\u001b[0m\u001b[1;33m\u001b[0m\u001b[0m\n\u001b[0m",
      "\u001b[1;32m<ipython-input-46-2f36fc006c39>\u001b[0m in \u001b[0;36m<listcomp>\u001b[1;34m(.0)\u001b[0m\n\u001b[1;32m----> 1\u001b[1;33m \u001b[0mlist_month\u001b[0m \u001b[1;33m=\u001b[0m \u001b[1;33m[\u001b[0m\u001b[0mdate_array\u001b[0m\u001b[1;33m[\u001b[0m\u001b[0mi\u001b[0m\u001b[1;33m]\u001b[0m\u001b[1;33m[\u001b[0m\u001b[1;36m5\u001b[0m\u001b[1;33m:\u001b[0m\u001b[1;33m]\u001b[0m \u001b[1;32mfor\u001b[0m \u001b[0mi\u001b[0m \u001b[1;32min\u001b[0m \u001b[0mdate_array\u001b[0m\u001b[1;33m]\u001b[0m\u001b[1;33m\u001b[0m\u001b[0m\n\u001b[0m",
      "\u001b[1;31mIndexError\u001b[0m: only integers, slices (`:`), ellipsis (`...`), numpy.newaxis (`None`) and integer or boolean arrays are valid indices"
     ]
    }
   ],
   "source": [
    "list_month = [date_array[i][5:] for i in date_array]"
   ]
  },
  {
   "cell_type": "code",
   "execution_count": 42,
   "metadata": {},
   "outputs": [
    {
     "data": {
      "text/plain": [
       "array(['1949-06', '1949-07', '1949-08', '1949-09', '1949-10', '1949-11',\n",
       "       '1949-12', '1950-01', '1950-02', '1950-03', '1950-04', '1950-05',\n",
       "       '1950-06', '1950-07', '1950-08', '1950-09', '1950-10', '1950-11',\n",
       "       '1950-12', '1951-01', '1951-02', '1951-03', '1951-04', '1951-05',\n",
       "       '1951-06', '1951-07', '1951-08', '1951-09', '1951-10', '1951-11',\n",
       "       '1951-12', '1952-01', '1952-02', '1952-03', '1952-04', '1952-05',\n",
       "       '1952-06', '1952-07', '1952-08', '1952-09', '1952-10', '1952-11',\n",
       "       '1952-12', '1953-01', '1953-02', '1953-03', '1953-04', '1953-05',\n",
       "       '1953-06', '1953-07', '1953-08', '1953-09', '1953-10', '1953-11',\n",
       "       '1953-12', '1954-01', '1954-02', '1954-03', '1954-04', '1954-05',\n",
       "       '1954-06', '1954-07', '1954-08', '1954-09', '1954-10', '1954-11',\n",
       "       '1954-12', '1955-01', '1955-02', '1955-03', '1955-04', '1955-05',\n",
       "       '1955-06', '1955-07', '1955-08', '1955-09', '1955-10', '1955-11',\n",
       "       '1955-12', '1956-01', '1956-02', '1956-03', '1956-04', '1956-05',\n",
       "       '1956-06', '1956-07', '1956-08', '1956-09', '1956-10', '1956-11',\n",
       "       '1956-12', '1957-01', '1957-02', '1957-03', '1957-04', '1957-05',\n",
       "       '1957-06', '1957-07', '1957-08', '1957-09', '1957-10', '1957-11',\n",
       "       '1957-12', '1958-01', '1958-02', '1958-03', '1958-04', '1958-05',\n",
       "       '1958-06', '1958-07', '1958-08', '1958-09', '1958-10', '1958-11',\n",
       "       '1958-12', '1959-01', '1959-02', '1959-03', '1959-04', '1959-05',\n",
       "       '1959-06', '1959-07', '1959-08', '1959-09', '1959-10', '1959-11',\n",
       "       '1959-12', '1960-01', '1960-02', '1960-03', '1960-04', '1960-05',\n",
       "       '1960-06', '1960-07', '1960-08', '1960-09', '1960-10', '1960-11',\n",
       "       '1960-12'], dtype=object)"
      ]
     },
     "execution_count": 42,
     "metadata": {},
     "output_type": "execute_result"
    }
   ],
   "source": [
    "list_month"
   ]
  },
  {
   "cell_type": "code",
   "execution_count": 47,
   "metadata": {},
   "outputs": [],
   "source": [
    "list_month = list(list_month)"
   ]
  },
  {
   "cell_type": "code",
   "execution_count": 48,
   "metadata": {},
   "outputs": [
    {
     "data": {
      "text/plain": [
       "['1949-06',\n",
       " '1949-07',\n",
       " '1949-08',\n",
       " '1949-09',\n",
       " '1949-10',\n",
       " '1949-11',\n",
       " '1949-12',\n",
       " '1950-01',\n",
       " '1950-02',\n",
       " '1950-03',\n",
       " '1950-04',\n",
       " '1950-05',\n",
       " '1950-06',\n",
       " '1950-07',\n",
       " '1950-08',\n",
       " '1950-09',\n",
       " '1950-10',\n",
       " '1950-11',\n",
       " '1950-12',\n",
       " '1951-01',\n",
       " '1951-02',\n",
       " '1951-03',\n",
       " '1951-04',\n",
       " '1951-05',\n",
       " '1951-06',\n",
       " '1951-07',\n",
       " '1951-08',\n",
       " '1951-09',\n",
       " '1951-10',\n",
       " '1951-11',\n",
       " '1951-12',\n",
       " '1952-01',\n",
       " '1952-02',\n",
       " '1952-03',\n",
       " '1952-04',\n",
       " '1952-05',\n",
       " '1952-06',\n",
       " '1952-07',\n",
       " '1952-08',\n",
       " '1952-09',\n",
       " '1952-10',\n",
       " '1952-11',\n",
       " '1952-12',\n",
       " '1953-01',\n",
       " '1953-02',\n",
       " '1953-03',\n",
       " '1953-04',\n",
       " '1953-05',\n",
       " '1953-06',\n",
       " '1953-07',\n",
       " '1953-08',\n",
       " '1953-09',\n",
       " '1953-10',\n",
       " '1953-11',\n",
       " '1953-12',\n",
       " '1954-01',\n",
       " '1954-02',\n",
       " '1954-03',\n",
       " '1954-04',\n",
       " '1954-05',\n",
       " '1954-06',\n",
       " '1954-07',\n",
       " '1954-08',\n",
       " '1954-09',\n",
       " '1954-10',\n",
       " '1954-11',\n",
       " '1954-12',\n",
       " '1955-01',\n",
       " '1955-02',\n",
       " '1955-03',\n",
       " '1955-04',\n",
       " '1955-05',\n",
       " '1955-06',\n",
       " '1955-07',\n",
       " '1955-08',\n",
       " '1955-09',\n",
       " '1955-10',\n",
       " '1955-11',\n",
       " '1955-12',\n",
       " '1956-01',\n",
       " '1956-02',\n",
       " '1956-03',\n",
       " '1956-04',\n",
       " '1956-05',\n",
       " '1956-06',\n",
       " '1956-07',\n",
       " '1956-08',\n",
       " '1956-09',\n",
       " '1956-10',\n",
       " '1956-11',\n",
       " '1956-12',\n",
       " '1957-01',\n",
       " '1957-02',\n",
       " '1957-03',\n",
       " '1957-04',\n",
       " '1957-05',\n",
       " '1957-06',\n",
       " '1957-07',\n",
       " '1957-08',\n",
       " '1957-09',\n",
       " '1957-10',\n",
       " '1957-11',\n",
       " '1957-12',\n",
       " '1958-01',\n",
       " '1958-02',\n",
       " '1958-03',\n",
       " '1958-04',\n",
       " '1958-05',\n",
       " '1958-06',\n",
       " '1958-07',\n",
       " '1958-08',\n",
       " '1958-09',\n",
       " '1958-10',\n",
       " '1958-11',\n",
       " '1958-12',\n",
       " '1959-01',\n",
       " '1959-02',\n",
       " '1959-03',\n",
       " '1959-04',\n",
       " '1959-05',\n",
       " '1959-06',\n",
       " '1959-07',\n",
       " '1959-08',\n",
       " '1959-09',\n",
       " '1959-10',\n",
       " '1959-11',\n",
       " '1959-12',\n",
       " '1960-01',\n",
       " '1960-02',\n",
       " '1960-03',\n",
       " '1960-04',\n",
       " '1960-05',\n",
       " '1960-06',\n",
       " '1960-07',\n",
       " '1960-08',\n",
       " '1960-09',\n",
       " '1960-10',\n",
       " '1960-11',\n",
       " '1960-12']"
      ]
     },
     "execution_count": 48,
     "metadata": {},
     "output_type": "execute_result"
    }
   ],
   "source": [
    "list_month"
   ]
  },
  {
   "cell_type": "code",
   "execution_count": 64,
   "metadata": {},
   "outputs": [],
   "source": [
    "list_month = [list_month[:] for s in list_month]"
   ]
  },
  {
   "cell_type": "code",
   "execution_count": 65,
   "metadata": {},
   "outputs": [
    {
     "data": {
      "text/plain": [
       "[[[]]]"
      ]
     },
     "execution_count": 65,
     "metadata": {},
     "output_type": "execute_result"
    }
   ],
   "source": [
    "list_month"
   ]
  },
  {
   "cell_type": "code",
   "execution_count": 66,
   "metadata": {},
   "outputs": [],
   "source": [
    "del list_month"
   ]
  },
  {
   "cell_type": "code",
   "execution_count": 67,
   "metadata": {},
   "outputs": [
    {
     "data": {
      "text/plain": [
       "array(['1949-01', '1949-02', '1949-03', '1949-04', '1949-05', '1949-06',\n",
       "       '1949-07', '1949-08', '1949-09', '1949-10', '1949-11', '1949-12',\n",
       "       '1950-01', '1950-02', '1950-03', '1950-04', '1950-05', '1950-06',\n",
       "       '1950-07', '1950-08', '1950-09', '1950-10', '1950-11', '1950-12',\n",
       "       '1951-01', '1951-02', '1951-03', '1951-04', '1951-05', '1951-06',\n",
       "       '1951-07', '1951-08', '1951-09', '1951-10', '1951-11', '1951-12',\n",
       "       '1952-01', '1952-02', '1952-03', '1952-04', '1952-05', '1952-06',\n",
       "       '1952-07', '1952-08', '1952-09', '1952-10', '1952-11', '1952-12',\n",
       "       '1953-01', '1953-02', '1953-03', '1953-04', '1953-05', '1953-06',\n",
       "       '1953-07', '1953-08', '1953-09', '1953-10', '1953-11', '1953-12',\n",
       "       '1954-01', '1954-02', '1954-03', '1954-04', '1954-05', '1954-06',\n",
       "       '1954-07', '1954-08', '1954-09', '1954-10', '1954-11', '1954-12',\n",
       "       '1955-01', '1955-02', '1955-03', '1955-04', '1955-05', '1955-06',\n",
       "       '1955-07', '1955-08', '1955-09', '1955-10', '1955-11', '1955-12',\n",
       "       '1956-01', '1956-02', '1956-03', '1956-04', '1956-05', '1956-06',\n",
       "       '1956-07', '1956-08', '1956-09', '1956-10', '1956-11', '1956-12',\n",
       "       '1957-01', '1957-02', '1957-03', '1957-04', '1957-05', '1957-06',\n",
       "       '1957-07', '1957-08', '1957-09', '1957-10', '1957-11', '1957-12',\n",
       "       '1958-01', '1958-02', '1958-03', '1958-04', '1958-05', '1958-06',\n",
       "       '1958-07', '1958-08', '1958-09', '1958-10', '1958-11', '1958-12',\n",
       "       '1959-01', '1959-02', '1959-03', '1959-04', '1959-05', '1959-06',\n",
       "       '1959-07', '1959-08', '1959-09', '1959-10', '1959-11', '1959-12',\n",
       "       '1960-01', '1960-02', '1960-03', '1960-04', '1960-05', '1960-06',\n",
       "       '1960-07', '1960-08', '1960-09', '1960-10', '1960-11', '1960-12'],\n",
       "      dtype=object)"
      ]
     },
     "execution_count": 67,
     "metadata": {},
     "output_type": "execute_result"
    }
   ],
   "source": [
    "date_array"
   ]
  },
  {
   "cell_type": "code",
   "execution_count": 70,
   "metadata": {},
   "outputs": [],
   "source": [
    "list_month = [s[5:] for s in date_array]"
   ]
  },
  {
   "cell_type": "code",
   "execution_count": 71,
   "metadata": {},
   "outputs": [
    {
     "data": {
      "text/plain": [
       "['01',\n",
       " '02',\n",
       " '03',\n",
       " '04',\n",
       " '05',\n",
       " '06',\n",
       " '07',\n",
       " '08',\n",
       " '09',\n",
       " '10',\n",
       " '11',\n",
       " '12',\n",
       " '01',\n",
       " '02',\n",
       " '03',\n",
       " '04',\n",
       " '05',\n",
       " '06',\n",
       " '07',\n",
       " '08',\n",
       " '09',\n",
       " '10',\n",
       " '11',\n",
       " '12',\n",
       " '01',\n",
       " '02',\n",
       " '03',\n",
       " '04',\n",
       " '05',\n",
       " '06',\n",
       " '07',\n",
       " '08',\n",
       " '09',\n",
       " '10',\n",
       " '11',\n",
       " '12',\n",
       " '01',\n",
       " '02',\n",
       " '03',\n",
       " '04',\n",
       " '05',\n",
       " '06',\n",
       " '07',\n",
       " '08',\n",
       " '09',\n",
       " '10',\n",
       " '11',\n",
       " '12',\n",
       " '01',\n",
       " '02',\n",
       " '03',\n",
       " '04',\n",
       " '05',\n",
       " '06',\n",
       " '07',\n",
       " '08',\n",
       " '09',\n",
       " '10',\n",
       " '11',\n",
       " '12',\n",
       " '01',\n",
       " '02',\n",
       " '03',\n",
       " '04',\n",
       " '05',\n",
       " '06',\n",
       " '07',\n",
       " '08',\n",
       " '09',\n",
       " '10',\n",
       " '11',\n",
       " '12',\n",
       " '01',\n",
       " '02',\n",
       " '03',\n",
       " '04',\n",
       " '05',\n",
       " '06',\n",
       " '07',\n",
       " '08',\n",
       " '09',\n",
       " '10',\n",
       " '11',\n",
       " '12',\n",
       " '01',\n",
       " '02',\n",
       " '03',\n",
       " '04',\n",
       " '05',\n",
       " '06',\n",
       " '07',\n",
       " '08',\n",
       " '09',\n",
       " '10',\n",
       " '11',\n",
       " '12',\n",
       " '01',\n",
       " '02',\n",
       " '03',\n",
       " '04',\n",
       " '05',\n",
       " '06',\n",
       " '07',\n",
       " '08',\n",
       " '09',\n",
       " '10',\n",
       " '11',\n",
       " '12',\n",
       " '01',\n",
       " '02',\n",
       " '03',\n",
       " '04',\n",
       " '05',\n",
       " '06',\n",
       " '07',\n",
       " '08',\n",
       " '09',\n",
       " '10',\n",
       " '11',\n",
       " '12',\n",
       " '01',\n",
       " '02',\n",
       " '03',\n",
       " '04',\n",
       " '05',\n",
       " '06',\n",
       " '07',\n",
       " '08',\n",
       " '09',\n",
       " '10',\n",
       " '11',\n",
       " '12',\n",
       " '01',\n",
       " '02',\n",
       " '03',\n",
       " '04',\n",
       " '05',\n",
       " '06',\n",
       " '07',\n",
       " '08',\n",
       " '09',\n",
       " '10',\n",
       " '11',\n",
       " '12']"
      ]
     },
     "execution_count": 71,
     "metadata": {},
     "output_type": "execute_result"
    }
   ],
   "source": [
    "list_month"
   ]
  },
  {
   "cell_type": "code",
   "execution_count": 72,
   "metadata": {},
   "outputs": [],
   "source": [
    "list_month = np.array(list_month)"
   ]
  },
  {
   "cell_type": "code",
   "execution_count": 73,
   "metadata": {},
   "outputs": [
    {
     "data": {
      "text/plain": [
       "array(['01', '02', '03', '04', '05', '06', '07', '08', '09', '10', '11',\n",
       "       '12', '01', '02', '03', '04', '05', '06', '07', '08', '09', '10',\n",
       "       '11', '12', '01', '02', '03', '04', '05', '06', '07', '08', '09',\n",
       "       '10', '11', '12', '01', '02', '03', '04', '05', '06', '07', '08',\n",
       "       '09', '10', '11', '12', '01', '02', '03', '04', '05', '06', '07',\n",
       "       '08', '09', '10', '11', '12', '01', '02', '03', '04', '05', '06',\n",
       "       '07', '08', '09', '10', '11', '12', '01', '02', '03', '04', '05',\n",
       "       '06', '07', '08', '09', '10', '11', '12', '01', '02', '03', '04',\n",
       "       '05', '06', '07', '08', '09', '10', '11', '12', '01', '02', '03',\n",
       "       '04', '05', '06', '07', '08', '09', '10', '11', '12', '01', '02',\n",
       "       '03', '04', '05', '06', '07', '08', '09', '10', '11', '12', '01',\n",
       "       '02', '03', '04', '05', '06', '07', '08', '09', '10', '11', '12',\n",
       "       '01', '02', '03', '04', '05', '06', '07', '08', '09', '10', '11',\n",
       "       '12'], dtype='<U2')"
      ]
     },
     "execution_count": 73,
     "metadata": {},
     "output_type": "execute_result"
    }
   ],
   "source": [
    "list_month"
   ]
  },
  {
   "cell_type": "code",
   "execution_count": 75,
   "metadata": {},
   "outputs": [],
   "source": [
    "list_month = list_month.astype(int)"
   ]
  },
  {
   "cell_type": "code",
   "execution_count": 76,
   "metadata": {},
   "outputs": [
    {
     "data": {
      "text/plain": [
       "array([ 1,  2,  3,  4,  5,  6,  7,  8,  9, 10, 11, 12,  1,  2,  3,  4,  5,\n",
       "        6,  7,  8,  9, 10, 11, 12,  1,  2,  3,  4,  5,  6,  7,  8,  9, 10,\n",
       "       11, 12,  1,  2,  3,  4,  5,  6,  7,  8,  9, 10, 11, 12,  1,  2,  3,\n",
       "        4,  5,  6,  7,  8,  9, 10, 11, 12,  1,  2,  3,  4,  5,  6,  7,  8,\n",
       "        9, 10, 11, 12,  1,  2,  3,  4,  5,  6,  7,  8,  9, 10, 11, 12,  1,\n",
       "        2,  3,  4,  5,  6,  7,  8,  9, 10, 11, 12,  1,  2,  3,  4,  5,  6,\n",
       "        7,  8,  9, 10, 11, 12,  1,  2,  3,  4,  5,  6,  7,  8,  9, 10, 11,\n",
       "       12,  1,  2,  3,  4,  5,  6,  7,  8,  9, 10, 11, 12,  1,  2,  3,  4,\n",
       "        5,  6,  7,  8,  9, 10, 11, 12])"
      ]
     },
     "execution_count": 76,
     "metadata": {},
     "output_type": "execute_result"
    }
   ],
   "source": [
    "list_month"
   ]
  },
  {
   "cell_type": "code",
   "execution_count": 77,
   "metadata": {},
   "outputs": [],
   "source": [
    "list_season = []"
   ]
  },
  {
   "cell_type": "code",
   "execution_count": 81,
   "metadata": {},
   "outputs": [],
   "source": [
    "list_month = list(list_monthb\n",
    "                )"
   ]
  },
  {
   "cell_type": "code",
   "execution_count": 85,
   "metadata": {
    "scrolled": true
   },
   "outputs": [
    {
     "data": {
      "text/plain": [
       "list"
      ]
     },
     "execution_count": 85,
     "metadata": {},
     "output_type": "execute_result"
    }
   ],
   "source": [
    "type(list_month)"
   ]
  },
  {
   "cell_type": "code",
   "execution_count": 87,
   "metadata": {},
   "outputs": [
    {
     "data": {
      "text/plain": [
       "12"
      ]
     },
     "execution_count": 87,
     "metadata": {},
     "output_type": "execute_result"
    }
   ],
   "source": [
    "i"
   ]
  },
  {
   "cell_type": "code",
   "execution_count": 91,
   "metadata": {},
   "outputs": [],
   "source": [
    "for i in list_month:\n",
    "    if list_month == 11 or 12 or 1:\n",
    "        list_season.append('winter')\n",
    "    elif list_month == 2 or 3 or 4:\n",
    "        list_season.append('spring')\n",
    "    elif list_month == 5 or 6 or 7:\n",
    "        list_season.append('summer')\n",
    "    else:\n",
    "        list_season.append('autumn')"
   ]
  },
  {
   "cell_type": "code",
   "execution_count": 93,
   "metadata": {},
   "outputs": [
    {
     "data": {
      "text/plain": [
       "12"
      ]
     },
     "execution_count": 93,
     "metadata": {},
     "output_type": "execute_result"
    }
   ],
   "source": [
    "i"
   ]
  },
  {
   "cell_type": "code",
   "execution_count": 96,
   "metadata": {},
   "outputs": [
    {
     "data": {
      "text/plain": [
       "[1,\n",
       " 2,\n",
       " 3,\n",
       " 4,\n",
       " 5,\n",
       " 6,\n",
       " 7,\n",
       " 8,\n",
       " 9,\n",
       " 10,\n",
       " 11,\n",
       " 12,\n",
       " 1,\n",
       " 2,\n",
       " 3,\n",
       " 4,\n",
       " 5,\n",
       " 6,\n",
       " 7,\n",
       " 8,\n",
       " 9,\n",
       " 10,\n",
       " 11,\n",
       " 12,\n",
       " 1,\n",
       " 2,\n",
       " 3,\n",
       " 4,\n",
       " 5,\n",
       " 6,\n",
       " 7,\n",
       " 8,\n",
       " 9,\n",
       " 10,\n",
       " 11,\n",
       " 12,\n",
       " 1,\n",
       " 2,\n",
       " 3,\n",
       " 4,\n",
       " 5,\n",
       " 6,\n",
       " 7,\n",
       " 8,\n",
       " 9,\n",
       " 10,\n",
       " 11,\n",
       " 12,\n",
       " 1,\n",
       " 2,\n",
       " 3,\n",
       " 4,\n",
       " 5,\n",
       " 6,\n",
       " 7,\n",
       " 8,\n",
       " 9,\n",
       " 10,\n",
       " 11,\n",
       " 12,\n",
       " 1,\n",
       " 2,\n",
       " 3,\n",
       " 4,\n",
       " 5,\n",
       " 6,\n",
       " 7,\n",
       " 8,\n",
       " 9,\n",
       " 10,\n",
       " 11,\n",
       " 12,\n",
       " 1,\n",
       " 2,\n",
       " 3,\n",
       " 4,\n",
       " 5,\n",
       " 6,\n",
       " 7,\n",
       " 8,\n",
       " 9,\n",
       " 10,\n",
       " 11,\n",
       " 12,\n",
       " 1,\n",
       " 2,\n",
       " 3,\n",
       " 4,\n",
       " 5,\n",
       " 6,\n",
       " 7,\n",
       " 8,\n",
       " 9,\n",
       " 10,\n",
       " 11,\n",
       " 12,\n",
       " 1,\n",
       " 2,\n",
       " 3,\n",
       " 4,\n",
       " 5,\n",
       " 6,\n",
       " 7,\n",
       " 8,\n",
       " 9,\n",
       " 10,\n",
       " 11,\n",
       " 12,\n",
       " 1,\n",
       " 2,\n",
       " 3,\n",
       " 4,\n",
       " 5,\n",
       " 6,\n",
       " 7,\n",
       " 8,\n",
       " 9,\n",
       " 10,\n",
       " 11,\n",
       " 12,\n",
       " 1,\n",
       " 2,\n",
       " 3,\n",
       " 4,\n",
       " 5,\n",
       " 6,\n",
       " 7,\n",
       " 8,\n",
       " 9,\n",
       " 10,\n",
       " 11,\n",
       " 12,\n",
       " 1,\n",
       " 2,\n",
       " 3,\n",
       " 4,\n",
       " 5,\n",
       " 6,\n",
       " 7,\n",
       " 8,\n",
       " 9,\n",
       " 10,\n",
       " 11,\n",
       " 12]"
      ]
     },
     "execution_count": 96,
     "metadata": {},
     "output_type": "execute_result"
    }
   ],
   "source": [
    "list_month"
   ]
  },
  {
   "cell_type": "code",
   "execution_count": 98,
   "metadata": {},
   "outputs": [],
   "source": [
    "df.drop('Month', axis=1, inplace=True)"
   ]
  },
  {
   "cell_type": "code",
   "execution_count": 102,
   "metadata": {},
   "outputs": [
    {
     "ename": "NameError",
     "evalue": "name 'date' is not defined",
     "output_type": "error",
     "traceback": [
      "\u001b[1;31m---------------------------------------------------------------------------\u001b[0m",
      "\u001b[1;31mNameError\u001b[0m                                 Traceback (most recent call last)",
      "\u001b[1;32m<ipython-input-102-a975c295ddea>\u001b[0m in \u001b[0;36m<module>\u001b[1;34m()\u001b[0m\n\u001b[1;32m----> 1\u001b[1;33m \u001b[0mdate\u001b[0m\u001b[1;33m\u001b[0m\u001b[0m\n\u001b[0m",
      "\u001b[1;31mNameError\u001b[0m: name 'date' is not defined"
     ]
    }
   ],
   "source": [
    "date"
   ]
  },
  {
   "cell_type": "code",
   "execution_count": 103,
   "metadata": {},
   "outputs": [
    {
     "ename": "KeyError",
     "evalue": "'date'",
     "output_type": "error",
     "traceback": [
      "\u001b[1;31m---------------------------------------------------------------------------\u001b[0m",
      "\u001b[1;31mKeyError\u001b[0m                                  Traceback (most recent call last)",
      "\u001b[1;32m~\\Anaconda3\\lib\\site-packages\\pandas\\indexes\\base.py\u001b[0m in \u001b[0;36mget_loc\u001b[1;34m(self, key, method, tolerance)\u001b[0m\n\u001b[0;32m   1944\u001b[0m             \u001b[1;32mtry\u001b[0m\u001b[1;33m:\u001b[0m\u001b[1;33m\u001b[0m\u001b[0m\n\u001b[1;32m-> 1945\u001b[1;33m                 \u001b[1;32mreturn\u001b[0m \u001b[0mself\u001b[0m\u001b[1;33m.\u001b[0m\u001b[0m_engine\u001b[0m\u001b[1;33m.\u001b[0m\u001b[0mget_loc\u001b[0m\u001b[1;33m(\u001b[0m\u001b[0mkey\u001b[0m\u001b[1;33m)\u001b[0m\u001b[1;33m\u001b[0m\u001b[0m\n\u001b[0m\u001b[0;32m   1946\u001b[0m             \u001b[1;32mexcept\u001b[0m \u001b[0mKeyError\u001b[0m\u001b[1;33m:\u001b[0m\u001b[1;33m\u001b[0m\u001b[0m\n",
      "\u001b[1;32mpandas\\index.pyx\u001b[0m in \u001b[0;36mpandas.index.IndexEngine.get_loc (pandas\\index.c:4154)\u001b[1;34m()\u001b[0m\n",
      "\u001b[1;32mpandas\\index.pyx\u001b[0m in \u001b[0;36mpandas.index.IndexEngine.get_loc (pandas\\index.c:4018)\u001b[1;34m()\u001b[0m\n",
      "\u001b[1;32mpandas\\hashtable.pyx\u001b[0m in \u001b[0;36mpandas.hashtable.PyObjectHashTable.get_item (pandas\\hashtable.c:12368)\u001b[1;34m()\u001b[0m\n",
      "\u001b[1;32mpandas\\hashtable.pyx\u001b[0m in \u001b[0;36mpandas.hashtable.PyObjectHashTable.get_item (pandas\\hashtable.c:12322)\u001b[1;34m()\u001b[0m\n",
      "\u001b[1;31mKeyError\u001b[0m: 'date'",
      "\nDuring handling of the above exception, another exception occurred:\n",
      "\u001b[1;31mKeyError\u001b[0m                                  Traceback (most recent call last)",
      "\u001b[1;32m<ipython-input-103-dd921eab8863>\u001b[0m in \u001b[0;36m<module>\u001b[1;34m()\u001b[0m\n\u001b[1;32m----> 1\u001b[1;33m \u001b[0mdf\u001b[0m\u001b[1;33m[\u001b[0m\u001b[1;34m'date'\u001b[0m\u001b[1;33m]\u001b[0m\u001b[1;33m\u001b[0m\u001b[0m\n\u001b[0m",
      "\u001b[1;32m~\\Anaconda3\\lib\\site-packages\\pandas\\core\\frame.py\u001b[0m in \u001b[0;36m__getitem__\u001b[1;34m(self, key)\u001b[0m\n\u001b[0;32m   1995\u001b[0m             \u001b[1;32mreturn\u001b[0m \u001b[0mself\u001b[0m\u001b[1;33m.\u001b[0m\u001b[0m_getitem_multilevel\u001b[0m\u001b[1;33m(\u001b[0m\u001b[0mkey\u001b[0m\u001b[1;33m)\u001b[0m\u001b[1;33m\u001b[0m\u001b[0m\n\u001b[0;32m   1996\u001b[0m         \u001b[1;32melse\u001b[0m\u001b[1;33m:\u001b[0m\u001b[1;33m\u001b[0m\u001b[0m\n\u001b[1;32m-> 1997\u001b[1;33m             \u001b[1;32mreturn\u001b[0m \u001b[0mself\u001b[0m\u001b[1;33m.\u001b[0m\u001b[0m_getitem_column\u001b[0m\u001b[1;33m(\u001b[0m\u001b[0mkey\u001b[0m\u001b[1;33m)\u001b[0m\u001b[1;33m\u001b[0m\u001b[0m\n\u001b[0m\u001b[0;32m   1998\u001b[0m \u001b[1;33m\u001b[0m\u001b[0m\n\u001b[0;32m   1999\u001b[0m     \u001b[1;32mdef\u001b[0m \u001b[0m_getitem_column\u001b[0m\u001b[1;33m(\u001b[0m\u001b[0mself\u001b[0m\u001b[1;33m,\u001b[0m \u001b[0mkey\u001b[0m\u001b[1;33m)\u001b[0m\u001b[1;33m:\u001b[0m\u001b[1;33m\u001b[0m\u001b[0m\n",
      "\u001b[1;32m~\\Anaconda3\\lib\\site-packages\\pandas\\core\\frame.py\u001b[0m in \u001b[0;36m_getitem_column\u001b[1;34m(self, key)\u001b[0m\n\u001b[0;32m   2002\u001b[0m         \u001b[1;31m# get column\u001b[0m\u001b[1;33m\u001b[0m\u001b[1;33m\u001b[0m\u001b[0m\n\u001b[0;32m   2003\u001b[0m         \u001b[1;32mif\u001b[0m \u001b[0mself\u001b[0m\u001b[1;33m.\u001b[0m\u001b[0mcolumns\u001b[0m\u001b[1;33m.\u001b[0m\u001b[0mis_unique\u001b[0m\u001b[1;33m:\u001b[0m\u001b[1;33m\u001b[0m\u001b[0m\n\u001b[1;32m-> 2004\u001b[1;33m             \u001b[1;32mreturn\u001b[0m \u001b[0mself\u001b[0m\u001b[1;33m.\u001b[0m\u001b[0m_get_item_cache\u001b[0m\u001b[1;33m(\u001b[0m\u001b[0mkey\u001b[0m\u001b[1;33m)\u001b[0m\u001b[1;33m\u001b[0m\u001b[0m\n\u001b[0m\u001b[0;32m   2005\u001b[0m \u001b[1;33m\u001b[0m\u001b[0m\n\u001b[0;32m   2006\u001b[0m         \u001b[1;31m# duplicate columns & possible reduce dimensionality\u001b[0m\u001b[1;33m\u001b[0m\u001b[1;33m\u001b[0m\u001b[0m\n",
      "\u001b[1;32m~\\Anaconda3\\lib\\site-packages\\pandas\\core\\generic.py\u001b[0m in \u001b[0;36m_get_item_cache\u001b[1;34m(self, item)\u001b[0m\n\u001b[0;32m   1348\u001b[0m         \u001b[0mres\u001b[0m \u001b[1;33m=\u001b[0m \u001b[0mcache\u001b[0m\u001b[1;33m.\u001b[0m\u001b[0mget\u001b[0m\u001b[1;33m(\u001b[0m\u001b[0mitem\u001b[0m\u001b[1;33m)\u001b[0m\u001b[1;33m\u001b[0m\u001b[0m\n\u001b[0;32m   1349\u001b[0m         \u001b[1;32mif\u001b[0m \u001b[0mres\u001b[0m \u001b[1;32mis\u001b[0m \u001b[1;32mNone\u001b[0m\u001b[1;33m:\u001b[0m\u001b[1;33m\u001b[0m\u001b[0m\n\u001b[1;32m-> 1350\u001b[1;33m             \u001b[0mvalues\u001b[0m \u001b[1;33m=\u001b[0m \u001b[0mself\u001b[0m\u001b[1;33m.\u001b[0m\u001b[0m_data\u001b[0m\u001b[1;33m.\u001b[0m\u001b[0mget\u001b[0m\u001b[1;33m(\u001b[0m\u001b[0mitem\u001b[0m\u001b[1;33m)\u001b[0m\u001b[1;33m\u001b[0m\u001b[0m\n\u001b[0m\u001b[0;32m   1351\u001b[0m             \u001b[0mres\u001b[0m \u001b[1;33m=\u001b[0m \u001b[0mself\u001b[0m\u001b[1;33m.\u001b[0m\u001b[0m_box_item_values\u001b[0m\u001b[1;33m(\u001b[0m\u001b[0mitem\u001b[0m\u001b[1;33m,\u001b[0m \u001b[0mvalues\u001b[0m\u001b[1;33m)\u001b[0m\u001b[1;33m\u001b[0m\u001b[0m\n\u001b[0;32m   1352\u001b[0m             \u001b[0mcache\u001b[0m\u001b[1;33m[\u001b[0m\u001b[0mitem\u001b[0m\u001b[1;33m]\u001b[0m \u001b[1;33m=\u001b[0m \u001b[0mres\u001b[0m\u001b[1;33m\u001b[0m\u001b[0m\n",
      "\u001b[1;32m~\\Anaconda3\\lib\\site-packages\\pandas\\core\\internals.py\u001b[0m in \u001b[0;36mget\u001b[1;34m(self, item, fastpath)\u001b[0m\n\u001b[0;32m   3288\u001b[0m \u001b[1;33m\u001b[0m\u001b[0m\n\u001b[0;32m   3289\u001b[0m             \u001b[1;32mif\u001b[0m \u001b[1;32mnot\u001b[0m \u001b[0misnull\u001b[0m\u001b[1;33m(\u001b[0m\u001b[0mitem\u001b[0m\u001b[1;33m)\u001b[0m\u001b[1;33m:\u001b[0m\u001b[1;33m\u001b[0m\u001b[0m\n\u001b[1;32m-> 3290\u001b[1;33m                 \u001b[0mloc\u001b[0m \u001b[1;33m=\u001b[0m \u001b[0mself\u001b[0m\u001b[1;33m.\u001b[0m\u001b[0mitems\u001b[0m\u001b[1;33m.\u001b[0m\u001b[0mget_loc\u001b[0m\u001b[1;33m(\u001b[0m\u001b[0mitem\u001b[0m\u001b[1;33m)\u001b[0m\u001b[1;33m\u001b[0m\u001b[0m\n\u001b[0m\u001b[0;32m   3291\u001b[0m             \u001b[1;32melse\u001b[0m\u001b[1;33m:\u001b[0m\u001b[1;33m\u001b[0m\u001b[0m\n\u001b[0;32m   3292\u001b[0m                 \u001b[0mindexer\u001b[0m \u001b[1;33m=\u001b[0m \u001b[0mnp\u001b[0m\u001b[1;33m.\u001b[0m\u001b[0marange\u001b[0m\u001b[1;33m(\u001b[0m\u001b[0mlen\u001b[0m\u001b[1;33m(\u001b[0m\u001b[0mself\u001b[0m\u001b[1;33m.\u001b[0m\u001b[0mitems\u001b[0m\u001b[1;33m)\u001b[0m\u001b[1;33m)\u001b[0m\u001b[1;33m[\u001b[0m\u001b[0misnull\u001b[0m\u001b[1;33m(\u001b[0m\u001b[0mself\u001b[0m\u001b[1;33m.\u001b[0m\u001b[0mitems\u001b[0m\u001b[1;33m)\u001b[0m\u001b[1;33m]\u001b[0m\u001b[1;33m\u001b[0m\u001b[0m\n",
      "\u001b[1;32m~\\Anaconda3\\lib\\site-packages\\pandas\\indexes\\base.py\u001b[0m in \u001b[0;36mget_loc\u001b[1;34m(self, key, method, tolerance)\u001b[0m\n\u001b[0;32m   1945\u001b[0m                 \u001b[1;32mreturn\u001b[0m \u001b[0mself\u001b[0m\u001b[1;33m.\u001b[0m\u001b[0m_engine\u001b[0m\u001b[1;33m.\u001b[0m\u001b[0mget_loc\u001b[0m\u001b[1;33m(\u001b[0m\u001b[0mkey\u001b[0m\u001b[1;33m)\u001b[0m\u001b[1;33m\u001b[0m\u001b[0m\n\u001b[0;32m   1946\u001b[0m             \u001b[1;32mexcept\u001b[0m \u001b[0mKeyError\u001b[0m\u001b[1;33m:\u001b[0m\u001b[1;33m\u001b[0m\u001b[0m\n\u001b[1;32m-> 1947\u001b[1;33m                 \u001b[1;32mreturn\u001b[0m \u001b[0mself\u001b[0m\u001b[1;33m.\u001b[0m\u001b[0m_engine\u001b[0m\u001b[1;33m.\u001b[0m\u001b[0mget_loc\u001b[0m\u001b[1;33m(\u001b[0m\u001b[0mself\u001b[0m\u001b[1;33m.\u001b[0m\u001b[0m_maybe_cast_indexer\u001b[0m\u001b[1;33m(\u001b[0m\u001b[0mkey\u001b[0m\u001b[1;33m)\u001b[0m\u001b[1;33m)\u001b[0m\u001b[1;33m\u001b[0m\u001b[0m\n\u001b[0m\u001b[0;32m   1948\u001b[0m \u001b[1;33m\u001b[0m\u001b[0m\n\u001b[0;32m   1949\u001b[0m         \u001b[0mindexer\u001b[0m \u001b[1;33m=\u001b[0m \u001b[0mself\u001b[0m\u001b[1;33m.\u001b[0m\u001b[0mget_indexer\u001b[0m\u001b[1;33m(\u001b[0m\u001b[1;33m[\u001b[0m\u001b[0mkey\u001b[0m\u001b[1;33m]\u001b[0m\u001b[1;33m,\u001b[0m \u001b[0mmethod\u001b[0m\u001b[1;33m=\u001b[0m\u001b[0mmethod\u001b[0m\u001b[1;33m,\u001b[0m \u001b[0mtolerance\u001b[0m\u001b[1;33m=\u001b[0m\u001b[0mtolerance\u001b[0m\u001b[1;33m)\u001b[0m\u001b[1;33m\u001b[0m\u001b[0m\n",
      "\u001b[1;32mpandas\\index.pyx\u001b[0m in \u001b[0;36mpandas.index.IndexEngine.get_loc (pandas\\index.c:4154)\u001b[1;34m()\u001b[0m\n",
      "\u001b[1;32mpandas\\index.pyx\u001b[0m in \u001b[0;36mpandas.index.IndexEngine.get_loc (pandas\\index.c:4018)\u001b[1;34m()\u001b[0m\n",
      "\u001b[1;32mpandas\\hashtable.pyx\u001b[0m in \u001b[0;36mpandas.hashtable.PyObjectHashTable.get_item (pandas\\hashtable.c:12368)\u001b[1;34m()\u001b[0m\n",
      "\u001b[1;32mpandas\\hashtable.pyx\u001b[0m in \u001b[0;36mpandas.hashtable.PyObjectHashTable.get_item (pandas\\hashtable.c:12322)\u001b[1;34m()\u001b[0m\n",
      "\u001b[1;31mKeyError\u001b[0m: 'date'"
     ]
    }
   ],
   "source": [
    "df['date']"
   ]
  },
  {
   "cell_type": "code",
   "execution_count": 104,
   "metadata": {},
   "outputs": [
    {
     "data": {
      "text/html": [
       "<div>\n",
       "<table border=\"1\" class=\"dataframe\">\n",
       "  <thead>\n",
       "    <tr style=\"text-align: right;\">\n",
       "      <th></th>\n",
       "      <th>Passengers</th>\n",
       "      <th>Date</th>\n",
       "    </tr>\n",
       "  </thead>\n",
       "  <tbody>\n",
       "    <tr>\n",
       "      <th>0</th>\n",
       "      <td>112</td>\n",
       "      <td>1949-01</td>\n",
       "    </tr>\n",
       "    <tr>\n",
       "      <th>1</th>\n",
       "      <td>118</td>\n",
       "      <td>1949-02</td>\n",
       "    </tr>\n",
       "    <tr>\n",
       "      <th>2</th>\n",
       "      <td>132</td>\n",
       "      <td>1949-03</td>\n",
       "    </tr>\n",
       "    <tr>\n",
       "      <th>3</th>\n",
       "      <td>129</td>\n",
       "      <td>1949-04</td>\n",
       "    </tr>\n",
       "    <tr>\n",
       "      <th>4</th>\n",
       "      <td>121</td>\n",
       "      <td>1949-05</td>\n",
       "    </tr>\n",
       "  </tbody>\n",
       "</table>\n",
       "</div>"
      ],
      "text/plain": [
       "   Passengers     Date\n",
       "0         112  1949-01\n",
       "1         118  1949-02\n",
       "2         132  1949-03\n",
       "3         129  1949-04\n",
       "4         121  1949-05"
      ]
     },
     "execution_count": 104,
     "metadata": {},
     "output_type": "execute_result"
    }
   ],
   "source": [
    "df.head()"
   ]
  },
  {
   "cell_type": "code",
   "execution_count": 105,
   "metadata": {},
   "outputs": [],
   "source": [
    "date = df['Date']"
   ]
  },
  {
   "cell_type": "code",
   "execution_count": 106,
   "metadata": {},
   "outputs": [
    {
     "data": {
      "text/plain": [
       "0    1949-01\n",
       "1    1949-02\n",
       "2    1949-03\n",
       "3    1949-04\n",
       "4    1949-05\n",
       "Name: Date, dtype: object"
      ]
     },
     "execution_count": 106,
     "metadata": {},
     "output_type": "execute_result"
    }
   ],
   "source": [
    "date.head()"
   ]
  },
  {
   "cell_type": "code",
   "execution_count": 108,
   "metadata": {},
   "outputs": [],
   "source": [
    "date = date.map(lambda x: x.split('-'))"
   ]
  },
  {
   "cell_type": "code",
   "execution_count": 109,
   "metadata": {},
   "outputs": [
    {
     "data": {
      "text/plain": [
       "0      [1949, 01]\n",
       "1      [1949, 02]\n",
       "2      [1949, 03]\n",
       "3      [1949, 04]\n",
       "4      [1949, 05]\n",
       "5      [1949, 06]\n",
       "6      [1949, 07]\n",
       "7      [1949, 08]\n",
       "8      [1949, 09]\n",
       "9      [1949, 10]\n",
       "10     [1949, 11]\n",
       "11     [1949, 12]\n",
       "12     [1950, 01]\n",
       "13     [1950, 02]\n",
       "14     [1950, 03]\n",
       "15     [1950, 04]\n",
       "16     [1950, 05]\n",
       "17     [1950, 06]\n",
       "18     [1950, 07]\n",
       "19     [1950, 08]\n",
       "20     [1950, 09]\n",
       "21     [1950, 10]\n",
       "22     [1950, 11]\n",
       "23     [1950, 12]\n",
       "24     [1951, 01]\n",
       "25     [1951, 02]\n",
       "26     [1951, 03]\n",
       "27     [1951, 04]\n",
       "28     [1951, 05]\n",
       "29     [1951, 06]\n",
       "          ...    \n",
       "114    [1958, 07]\n",
       "115    [1958, 08]\n",
       "116    [1958, 09]\n",
       "117    [1958, 10]\n",
       "118    [1958, 11]\n",
       "119    [1958, 12]\n",
       "120    [1959, 01]\n",
       "121    [1959, 02]\n",
       "122    [1959, 03]\n",
       "123    [1959, 04]\n",
       "124    [1959, 05]\n",
       "125    [1959, 06]\n",
       "126    [1959, 07]\n",
       "127    [1959, 08]\n",
       "128    [1959, 09]\n",
       "129    [1959, 10]\n",
       "130    [1959, 11]\n",
       "131    [1959, 12]\n",
       "132    [1960, 01]\n",
       "133    [1960, 02]\n",
       "134    [1960, 03]\n",
       "135    [1960, 04]\n",
       "136    [1960, 05]\n",
       "137    [1960, 06]\n",
       "138    [1960, 07]\n",
       "139    [1960, 08]\n",
       "140    [1960, 09]\n",
       "141    [1960, 10]\n",
       "142    [1960, 11]\n",
       "143    [1960, 12]\n",
       "Name: Date, dtype: object"
      ]
     },
     "execution_count": 109,
     "metadata": {},
     "output_type": "execute_result"
    }
   ],
   "source": [
    "date"
   ]
  },
  {
   "cell_type": "code",
   "execution_count": 111,
   "metadata": {},
   "outputs": [],
   "source": [
    "np_date = np.array(date.values.tolist())"
   ]
  },
  {
   "cell_type": "code",
   "execution_count": 112,
   "metadata": {},
   "outputs": [
    {
     "data": {
      "text/plain": [
       "array([['1949', '01'],\n",
       "       ['1949', '02'],\n",
       "       ['1949', '03'],\n",
       "       ['1949', '04'],\n",
       "       ['1949', '05'],\n",
       "       ['1949', '06'],\n",
       "       ['1949', '07'],\n",
       "       ['1949', '08'],\n",
       "       ['1949', '09'],\n",
       "       ['1949', '10'],\n",
       "       ['1949', '11'],\n",
       "       ['1949', '12'],\n",
       "       ['1950', '01'],\n",
       "       ['1950', '02'],\n",
       "       ['1950', '03'],\n",
       "       ['1950', '04'],\n",
       "       ['1950', '05'],\n",
       "       ['1950', '06'],\n",
       "       ['1950', '07'],\n",
       "       ['1950', '08'],\n",
       "       ['1950', '09'],\n",
       "       ['1950', '10'],\n",
       "       ['1950', '11'],\n",
       "       ['1950', '12'],\n",
       "       ['1951', '01'],\n",
       "       ['1951', '02'],\n",
       "       ['1951', '03'],\n",
       "       ['1951', '04'],\n",
       "       ['1951', '05'],\n",
       "       ['1951', '06'],\n",
       "       ['1951', '07'],\n",
       "       ['1951', '08'],\n",
       "       ['1951', '09'],\n",
       "       ['1951', '10'],\n",
       "       ['1951', '11'],\n",
       "       ['1951', '12'],\n",
       "       ['1952', '01'],\n",
       "       ['1952', '02'],\n",
       "       ['1952', '03'],\n",
       "       ['1952', '04'],\n",
       "       ['1952', '05'],\n",
       "       ['1952', '06'],\n",
       "       ['1952', '07'],\n",
       "       ['1952', '08'],\n",
       "       ['1952', '09'],\n",
       "       ['1952', '10'],\n",
       "       ['1952', '11'],\n",
       "       ['1952', '12'],\n",
       "       ['1953', '01'],\n",
       "       ['1953', '02'],\n",
       "       ['1953', '03'],\n",
       "       ['1953', '04'],\n",
       "       ['1953', '05'],\n",
       "       ['1953', '06'],\n",
       "       ['1953', '07'],\n",
       "       ['1953', '08'],\n",
       "       ['1953', '09'],\n",
       "       ['1953', '10'],\n",
       "       ['1953', '11'],\n",
       "       ['1953', '12'],\n",
       "       ['1954', '01'],\n",
       "       ['1954', '02'],\n",
       "       ['1954', '03'],\n",
       "       ['1954', '04'],\n",
       "       ['1954', '05'],\n",
       "       ['1954', '06'],\n",
       "       ['1954', '07'],\n",
       "       ['1954', '08'],\n",
       "       ['1954', '09'],\n",
       "       ['1954', '10'],\n",
       "       ['1954', '11'],\n",
       "       ['1954', '12'],\n",
       "       ['1955', '01'],\n",
       "       ['1955', '02'],\n",
       "       ['1955', '03'],\n",
       "       ['1955', '04'],\n",
       "       ['1955', '05'],\n",
       "       ['1955', '06'],\n",
       "       ['1955', '07'],\n",
       "       ['1955', '08'],\n",
       "       ['1955', '09'],\n",
       "       ['1955', '10'],\n",
       "       ['1955', '11'],\n",
       "       ['1955', '12'],\n",
       "       ['1956', '01'],\n",
       "       ['1956', '02'],\n",
       "       ['1956', '03'],\n",
       "       ['1956', '04'],\n",
       "       ['1956', '05'],\n",
       "       ['1956', '06'],\n",
       "       ['1956', '07'],\n",
       "       ['1956', '08'],\n",
       "       ['1956', '09'],\n",
       "       ['1956', '10'],\n",
       "       ['1956', '11'],\n",
       "       ['1956', '12'],\n",
       "       ['1957', '01'],\n",
       "       ['1957', '02'],\n",
       "       ['1957', '03'],\n",
       "       ['1957', '04'],\n",
       "       ['1957', '05'],\n",
       "       ['1957', '06'],\n",
       "       ['1957', '07'],\n",
       "       ['1957', '08'],\n",
       "       ['1957', '09'],\n",
       "       ['1957', '10'],\n",
       "       ['1957', '11'],\n",
       "       ['1957', '12'],\n",
       "       ['1958', '01'],\n",
       "       ['1958', '02'],\n",
       "       ['1958', '03'],\n",
       "       ['1958', '04'],\n",
       "       ['1958', '05'],\n",
       "       ['1958', '06'],\n",
       "       ['1958', '07'],\n",
       "       ['1958', '08'],\n",
       "       ['1958', '09'],\n",
       "       ['1958', '10'],\n",
       "       ['1958', '11'],\n",
       "       ['1958', '12'],\n",
       "       ['1959', '01'],\n",
       "       ['1959', '02'],\n",
       "       ['1959', '03'],\n",
       "       ['1959', '04'],\n",
       "       ['1959', '05'],\n",
       "       ['1959', '06'],\n",
       "       ['1959', '07'],\n",
       "       ['1959', '08'],\n",
       "       ['1959', '09'],\n",
       "       ['1959', '10'],\n",
       "       ['1959', '11'],\n",
       "       ['1959', '12'],\n",
       "       ['1960', '01'],\n",
       "       ['1960', '02'],\n",
       "       ['1960', '03'],\n",
       "       ['1960', '04'],\n",
       "       ['1960', '05'],\n",
       "       ['1960', '06'],\n",
       "       ['1960', '07'],\n",
       "       ['1960', '08'],\n",
       "       ['1960', '09'],\n",
       "       ['1960', '10'],\n",
       "       ['1960', '11'],\n",
       "       ['1960', '12']], dtype='<U4')"
      ]
     },
     "execution_count": 112,
     "metadata": {},
     "output_type": "execute_result"
    }
   ],
   "source": [
    "np_date"
   ]
  },
  {
   "cell_type": "code",
   "execution_count": 113,
   "metadata": {},
   "outputs": [],
   "source": [
    "year = np_date[:, 0]\n",
    "month = np_date[:, 1]"
   ]
  },
  {
   "cell_type": "code",
   "execution_count": 114,
   "metadata": {},
   "outputs": [
    {
     "data": {
      "text/plain": [
       "array(['1949', '1949', '1949', '1949', '1949', '1949', '1949', '1949',\n",
       "       '1949', '1949', '1949', '1949', '1950', '1950', '1950', '1950',\n",
       "       '1950', '1950', '1950', '1950', '1950', '1950', '1950', '1950',\n",
       "       '1951', '1951', '1951', '1951', '1951', '1951', '1951', '1951',\n",
       "       '1951', '1951', '1951', '1951', '1952', '1952', '1952', '1952',\n",
       "       '1952', '1952', '1952', '1952', '1952', '1952', '1952', '1952',\n",
       "       '1953', '1953', '1953', '1953', '1953', '1953', '1953', '1953',\n",
       "       '1953', '1953', '1953', '1953', '1954', '1954', '1954', '1954',\n",
       "       '1954', '1954', '1954', '1954', '1954', '1954', '1954', '1954',\n",
       "       '1955', '1955', '1955', '1955', '1955', '1955', '1955', '1955',\n",
       "       '1955', '1955', '1955', '1955', '1956', '1956', '1956', '1956',\n",
       "       '1956', '1956', '1956', '1956', '1956', '1956', '1956', '1956',\n",
       "       '1957', '1957', '1957', '1957', '1957', '1957', '1957', '1957',\n",
       "       '1957', '1957', '1957', '1957', '1958', '1958', '1958', '1958',\n",
       "       '1958', '1958', '1958', '1958', '1958', '1958', '1958', '1958',\n",
       "       '1959', '1959', '1959', '1959', '1959', '1959', '1959', '1959',\n",
       "       '1959', '1959', '1959', '1959', '1960', '1960', '1960', '1960',\n",
       "       '1960', '1960', '1960', '1960', '1960', '1960', '1960', '1960'],\n",
       "      dtype='<U4')"
      ]
     },
     "execution_count": 114,
     "metadata": {},
     "output_type": "execute_result"
    }
   ],
   "source": [
    "year"
   ]
  },
  {
   "cell_type": "code",
   "execution_count": 115,
   "metadata": {},
   "outputs": [
    {
     "data": {
      "text/plain": [
       "array(['01', '02', '03', '04', '05', '06', '07', '08', '09', '10', '11',\n",
       "       '12', '01', '02', '03', '04', '05', '06', '07', '08', '09', '10',\n",
       "       '11', '12', '01', '02', '03', '04', '05', '06', '07', '08', '09',\n",
       "       '10', '11', '12', '01', '02', '03', '04', '05', '06', '07', '08',\n",
       "       '09', '10', '11', '12', '01', '02', '03', '04', '05', '06', '07',\n",
       "       '08', '09', '10', '11', '12', '01', '02', '03', '04', '05', '06',\n",
       "       '07', '08', '09', '10', '11', '12', '01', '02', '03', '04', '05',\n",
       "       '06', '07', '08', '09', '10', '11', '12', '01', '02', '03', '04',\n",
       "       '05', '06', '07', '08', '09', '10', '11', '12', '01', '02', '03',\n",
       "       '04', '05', '06', '07', '08', '09', '10', '11', '12', '01', '02',\n",
       "       '03', '04', '05', '06', '07', '08', '09', '10', '11', '12', '01',\n",
       "       '02', '03', '04', '05', '06', '07', '08', '09', '10', '11', '12',\n",
       "       '01', '02', '03', '04', '05', '06', '07', '08', '09', '10', '11',\n",
       "       '12'], dtype='<U4')"
      ]
     },
     "execution_count": 115,
     "metadata": {},
     "output_type": "execute_result"
    }
   ],
   "source": [
    "month"
   ]
  },
  {
   "cell_type": "code",
   "execution_count": 116,
   "metadata": {},
   "outputs": [],
   "source": [
    "df['Year'] = year"
   ]
  },
  {
   "cell_type": "code",
   "execution_count": 117,
   "metadata": {},
   "outputs": [],
   "source": [
    "df['Month'] = month\n"
   ]
  },
  {
   "cell_type": "code",
   "execution_count": 118,
   "metadata": {},
   "outputs": [
    {
     "data": {
      "text/html": [
       "<div>\n",
       "<table border=\"1\" class=\"dataframe\">\n",
       "  <thead>\n",
       "    <tr style=\"text-align: right;\">\n",
       "      <th></th>\n",
       "      <th>Passengers</th>\n",
       "      <th>Date</th>\n",
       "      <th>Year</th>\n",
       "      <th>Month</th>\n",
       "    </tr>\n",
       "  </thead>\n",
       "  <tbody>\n",
       "    <tr>\n",
       "      <th>0</th>\n",
       "      <td>112</td>\n",
       "      <td>1949-01</td>\n",
       "      <td>1949</td>\n",
       "      <td>01</td>\n",
       "    </tr>\n",
       "    <tr>\n",
       "      <th>1</th>\n",
       "      <td>118</td>\n",
       "      <td>1949-02</td>\n",
       "      <td>1949</td>\n",
       "      <td>02</td>\n",
       "    </tr>\n",
       "    <tr>\n",
       "      <th>2</th>\n",
       "      <td>132</td>\n",
       "      <td>1949-03</td>\n",
       "      <td>1949</td>\n",
       "      <td>03</td>\n",
       "    </tr>\n",
       "    <tr>\n",
       "      <th>3</th>\n",
       "      <td>129</td>\n",
       "      <td>1949-04</td>\n",
       "      <td>1949</td>\n",
       "      <td>04</td>\n",
       "    </tr>\n",
       "    <tr>\n",
       "      <th>4</th>\n",
       "      <td>121</td>\n",
       "      <td>1949-05</td>\n",
       "      <td>1949</td>\n",
       "      <td>05</td>\n",
       "    </tr>\n",
       "  </tbody>\n",
       "</table>\n",
       "</div>"
      ],
      "text/plain": [
       "   Passengers     Date  Year Month\n",
       "0         112  1949-01  1949    01\n",
       "1         118  1949-02  1949    02\n",
       "2         132  1949-03  1949    03\n",
       "3         129  1949-04  1949    04\n",
       "4         121  1949-05  1949    05"
      ]
     },
     "execution_count": 118,
     "metadata": {},
     "output_type": "execute_result"
    }
   ],
   "source": [
    "df.head()"
   ]
  },
  {
   "cell_type": "code",
   "execution_count": 130,
   "metadata": {},
   "outputs": [],
   "source": [
    "year_passengers = df.groupby(['Year'])['Passengers'].sum()"
   ]
  },
  {
   "cell_type": "code",
   "execution_count": 131,
   "metadata": {},
   "outputs": [],
   "source": [
    "month_passengers = df.groupby(['Month'])['Passengers'].sum()"
   ]
  },
  {
   "cell_type": "code",
   "execution_count": 134,
   "metadata": {},
   "outputs": [
    {
     "data": {
      "text/plain": [
       "<matplotlib.axes._subplots.AxesSubplot at 0x1e0e9352a58>"
      ]
     },
     "execution_count": 134,
     "metadata": {},
     "output_type": "execute_result"
    },
    {
     "data": {
      "image/png": "[encoded data removed]",
      "text/plain": [
       "<Figure size 432x288 with 1 Axes>"
      ]
     },
     "metadata": {},
     "output_type": "display_data"
    }
   ],
   "source": [
    "year_passengers.hist(bins=50)"
   ]
  },
  {
   "cell_type": "code",
   "execution_count": 135,
   "metadata": {},
   "outputs": [
    {
     "data": {
      "text/plain": [
       "<matplotlib.axes._subplots.AxesSubplot at 0x1e0e9398be0>"
      ]
     },
     "execution_count": 135,
     "metadata": {},
     "output_type": "execute_result"
    },
    {
     "data": {
      "image/png": "[encoded data removed]",
      "text/plain": [
       "<Figure size 432x288 with 1 Axes>"
      ]
     },
     "metadata": {},
     "output_type": "display_data"
    }
   ],
   "source": [
    "month_passengers.hist(bins=50)"
   ]
  },
  {
   "cell_type": "code",
   "execution_count": 137,
   "metadata": {},
   "outputs": [],
   "source": [
    "import seaborn as sns"
   ]
  },
  {
   "cell_type": "code",
   "execution_count": 139,
   "metadata": {},
   "outputs": [
    {
     "data": {
      "text/plain": [
       "<matplotlib.axes._subplots.AxesSubplot at 0x1e0eaf303c8>"
      ]
     },
     "execution_count": 139,
     "metadata": {},
     "output_type": "execute_result"
    },
    {
     "data": {
      "image/png": "[encoded data removed]",
      "text/plain": [
       "<Figure size 432x288 with 1 Axes>"
      ]
     },
     "metadata": {},
     "output_type": "display_data"
    }
   ],
   "source": [
    "sns.barplot(year_passengers.index, year_passengers)"
   ]
  },
  {
   "cell_type": "code",
   "execution_count": 140,
   "metadata": {},
   "outputs": [
    {
     "data": {
      "text/plain": [
       "<matplotlib.axes._subplots.AxesSubplot at 0x1e0eaf7ceb8>"
      ]
     },
     "execution_count": 140,
     "metadata": {},
     "output_type": "execute_result"
    },
    {
     "data": {
      "image/png": "[encoded data removed]",
      "text/plain": [
       "<Figure size 432x288 with 1 Axes>"
      ]
     },
     "metadata": {},
     "output_type": "display_data"
    }
   ],
   "source": [
    "sns.barplot(month_passengers.index, month_passengers)"
   ]
  },
  {
   "cell_type": "code",
   "execution_count": 141,
   "metadata": {},
   "outputs": [
    {
     "data": {
      "text/html": [
       "<div>\n",
       "<table border=\"1\" class=\"dataframe\">\n",
       "  <thead>\n",
       "    <tr style=\"text-align: right;\">\n",
       "      <th></th>\n",
       "      <th>Passengers</th>\n",
       "      <th>Date</th>\n",
       "      <th>Year</th>\n",
       "      <th>Month</th>\n",
       "    </tr>\n",
       "  </thead>\n",
       "  <tbody>\n",
       "    <tr>\n",
       "      <th>0</th>\n",
       "      <td>112</td>\n",
       "      <td>1949-01</td>\n",
       "      <td>1949</td>\n",
       "      <td>01</td>\n",
       "    </tr>\n",
       "    <tr>\n",
       "      <th>1</th>\n",
       "      <td>118</td>\n",
       "      <td>1949-02</td>\n",
       "      <td>1949</td>\n",
       "      <td>02</td>\n",
       "    </tr>\n",
       "    <tr>\n",
       "      <th>2</th>\n",
       "      <td>132</td>\n",
       "      <td>1949-03</td>\n",
       "      <td>1949</td>\n",
       "      <td>03</td>\n",
       "    </tr>\n",
       "    <tr>\n",
       "      <th>3</th>\n",
       "      <td>129</td>\n",
       "      <td>1949-04</td>\n",
       "      <td>1949</td>\n",
       "      <td>04</td>\n",
       "    </tr>\n",
       "    <tr>\n",
       "      <th>4</th>\n",
       "      <td>121</td>\n",
       "      <td>1949-05</td>\n",
       "      <td>1949</td>\n",
       "      <td>05</td>\n",
       "    </tr>\n",
       "  </tbody>\n",
       "</table>\n",
       "</div>"
      ],
      "text/plain": [
       "   Passengers     Date  Year Month\n",
       "0         112  1949-01  1949    01\n",
       "1         118  1949-02  1949    02\n",
       "2         132  1949-03  1949    03\n",
       "3         129  1949-04  1949    04\n",
       "4         121  1949-05  1949    05"
      ]
     },
     "execution_count": 141,
     "metadata": {},
     "output_type": "execute_result"
    }
   ],
   "source": [
    "df.head()"
   ]
  },
  {
   "cell_type": "code",
   "execution_count": 142,
   "metadata": {},
   "outputs": [
    {
     "data": {
      "text/plain": [
       "array(['01', '02', '03', '04', '05', '06', '07', '08', '09', '10', '11',\n",
       "       '12', '01', '02', '03', '04', '05', '06', '07', '08', '09', '10',\n",
       "       '11', '12', '01', '02', '03', '04', '05', '06', '07', '08', '09',\n",
       "       '10', '11', '12', '01', '02', '03', '04', '05', '06', '07', '08',\n",
       "       '09', '10', '11', '12', '01', '02', '03', '04', '05', '06', '07',\n",
       "       '08', '09', '10', '11', '12', '01', '02', '03', '04', '05', '06',\n",
       "       '07', '08', '09', '10', '11', '12', '01', '02', '03', '04', '05',\n",
       "       '06', '07', '08', '09', '10', '11', '12', '01', '02', '03', '04',\n",
       "       '05', '06', '07', '08', '09', '10', '11', '12', '01', '02', '03',\n",
       "       '04', '05', '06', '07', '08', '09', '10', '11', '12', '01', '02',\n",
       "       '03', '04', '05', '06', '07', '08', '09', '10', '11', '12', '01',\n",
       "       '02', '03', '04', '05', '06', '07', '08', '09', '10', '11', '12',\n",
       "       '01', '02', '03', '04', '05', '06', '07', '08', '09', '10', '11',\n",
       "       '12'], dtype='<U4')"
      ]
     },
     "execution_count": 142,
     "metadata": {},
     "output_type": "execute_result"
    }
   ],
   "source": [
    "month"
   ]
  },
  {
   "cell_type": "code",
   "execution_count": 144,
   "metadata": {},
   "outputs": [],
   "source": [
    "month_int = list(month.astype(int))"
   ]
  },
  {
   "cell_type": "code",
   "execution_count": 145,
   "metadata": {},
   "outputs": [
    {
     "data": {
      "text/plain": [
       "[1,\n",
       " 2,\n",
       " 3,\n",
       " 4,\n",
       " 5,\n",
       " 6,\n",
       " 7,\n",
       " 8,\n",
       " 9,\n",
       " 10,\n",
       " 11,\n",
       " 12,\n",
       " 1,\n",
       " 2,\n",
       " 3,\n",
       " 4,\n",
       " 5,\n",
       " 6,\n",
       " 7,\n",
       " 8,\n",
       " 9,\n",
       " 10,\n",
       " 11,\n",
       " 12,\n",
       " 1,\n",
       " 2,\n",
       " 3,\n",
       " 4,\n",
       " 5,\n",
       " 6,\n",
       " 7,\n",
       " 8,\n",
       " 9,\n",
       " 10,\n",
       " 11,\n",
       " 12,\n",
       " 1,\n",
       " 2,\n",
       " 3,\n",
       " 4,\n",
       " 5,\n",
       " 6,\n",
       " 7,\n",
       " 8,\n",
       " 9,\n",
       " 10,\n",
       " 11,\n",
       " 12,\n",
       " 1,\n",
       " 2,\n",
       " 3,\n",
       " 4,\n",
       " 5,\n",
       " 6,\n",
       " 7,\n",
       " 8,\n",
       " 9,\n",
       " 10,\n",
       " 11,\n",
       " 12,\n",
       " 1,\n",
       " 2,\n",
       " 3,\n",
       " 4,\n",
       " 5,\n",
       " 6,\n",
       " 7,\n",
       " 8,\n",
       " 9,\n",
       " 10,\n",
       " 11,\n",
       " 12,\n",
       " 1,\n",
       " 2,\n",
       " 3,\n",
       " 4,\n",
       " 5,\n",
       " 6,\n",
       " 7,\n",
       " 8,\n",
       " 9,\n",
       " 10,\n",
       " 11,\n",
       " 12,\n",
       " 1,\n",
       " 2,\n",
       " 3,\n",
       " 4,\n",
       " 5,\n",
       " 6,\n",
       " 7,\n",
       " 8,\n",
       " 9,\n",
       " 10,\n",
       " 11,\n",
       " 12,\n",
       " 1,\n",
       " 2,\n",
       " 3,\n",
       " 4,\n",
       " 5,\n",
       " 6,\n",
       " 7,\n",
       " 8,\n",
       " 9,\n",
       " 10,\n",
       " 11,\n",
       " 12,\n",
       " 1,\n",
       " 2,\n",
       " 3,\n",
       " 4,\n",
       " 5,\n",
       " 6,\n",
       " 7,\n",
       " 8,\n",
       " 9,\n",
       " 10,\n",
       " 11,\n",
       " 12,\n",
       " 1,\n",
       " 2,\n",
       " 3,\n",
       " 4,\n",
       " 5,\n",
       " 6,\n",
       " 7,\n",
       " 8,\n",
       " 9,\n",
       " 10,\n",
       " 11,\n",
       " 12,\n",
       " 1,\n",
       " 2,\n",
       " 3,\n",
       " 4,\n",
       " 5,\n",
       " 6,\n",
       " 7,\n",
       " 8,\n",
       " 9,\n",
       " 10,\n",
       " 11,\n",
       " 12]"
      ]
     },
     "execution_count": 145,
     "metadata": {},
     "output_type": "execute_result"
    }
   ],
   "source": [
    "month_int"
   ]
  },
  {
   "cell_type": "code",
   "execution_count": 148,
   "metadata": {},
   "outputs": [
    {
     "data": {
      "text/plain": [
       "array(['01', '02', '03', '04', '05', '06', '07', '08', '09', '10', '11',\n",
       "       '12', '01', '02', '03', '04', '05', '06', '07', '08', '09', '10',\n",
       "       '11', '12', '01', '02', '03', '04', '05', '06', '07', '08', '09',\n",
       "       '10', '11', '12', '01', '02', '03', '04', '05', '06', '07', '08',\n",
       "       '09', '10', '11', '12', '01', '02', '03', '04', '05', '06', '07',\n",
       "       '08', '09', '10', '11', '12', '01', '02', '03', '04', '05', '06',\n",
       "       '07', '08', '09', '10', '11', '12', '01', '02', '03', '04', '05',\n",
       "       '06', '07', '08', '09', '10', '11', '12', '01', '02', '03', '04',\n",
       "       '05', '06', '07', '08', '09', '10', '11', '12', '01', '02', '03',\n",
       "       '04', '05', '06', '07', '08', '09', '10', '11', '12', '01', '02',\n",
       "       '03', '04', '05', '06', '07', '08', '09', '10', '11', '12', '01',\n",
       "       '02', '03', '04', '05', '06', '07', '08', '09', '10', '11', '12',\n",
       "       '01', '02', '03', '04', '05', '06', '07', '08', '09', '10', '11',\n",
       "       '12'], dtype='<U4')"
      ]
     },
     "execution_count": 148,
     "metadata": {},
     "output_type": "execute_result"
    }
   ],
   "source": [
    "month"
   ]
  },
  {
   "cell_type": "code",
   "execution_count": 150,
   "metadata": {},
   "outputs": [],
   "source": [
    "df['cumsum'] = df['Passengers'].cumsum()"
   ]
  },
  {
   "cell_type": "code",
   "execution_count": 151,
   "metadata": {},
   "outputs": [],
   "source": [
    "df['cummax'] = df['Passengers'].cummax()"
   ]
  },
  {
   "cell_type": "code",
   "execution_count": 152,
   "metadata": {},
   "outputs": [],
   "source": [
    "df['cummin'] = df['Passengers'].cummin()"
   ]
  },
  {
   "cell_type": "code",
   "execution_count": 153,
   "metadata": {},
   "outputs": [
    {
     "data": {
      "text/html": [
       "<div>\n",
       "<table border=\"1\" class=\"dataframe\">\n",
       "  <thead>\n",
       "    <tr style=\"text-align: right;\">\n",
       "      <th></th>\n",
       "      <th>Passengers</th>\n",
       "      <th>Date</th>\n",
       "      <th>Year</th>\n",
       "      <th>Month</th>\n",
       "      <th>cumsum</th>\n",
       "      <th>cummax</th>\n",
       "      <th>cummin</th>\n",
       "    </tr>\n",
       "  </thead>\n",
       "  <tbody>\n",
       "    <tr>\n",
       "      <th>0</th>\n",
       "      <td>112</td>\n",
       "      <td>1949-01</td>\n",
       "      <td>1949</td>\n",
       "      <td>01</td>\n",
       "      <td>112</td>\n",
       "      <td>112</td>\n",
       "      <td>112</td>\n",
       "    </tr>\n",
       "    <tr>\n",
       "      <th>1</th>\n",
       "      <td>118</td>\n",
       "      <td>1949-02</td>\n",
       "      <td>1949</td>\n",
       "      <td>02</td>\n",
       "      <td>230</td>\n",
       "      <td>118</td>\n",
       "      <td>112</td>\n",
       "    </tr>\n",
       "    <tr>\n",
       "      <th>2</th>\n",
       "      <td>132</td>\n",
       "      <td>1949-03</td>\n",
       "      <td>1949</td>\n",
       "      <td>03</td>\n",
       "      <td>362</td>\n",
       "      <td>132</td>\n",
       "      <td>112</td>\n",
       "    </tr>\n",
       "    <tr>\n",
       "      <th>3</th>\n",
       "      <td>129</td>\n",
       "      <td>1949-04</td>\n",
       "      <td>1949</td>\n",
       "      <td>04</td>\n",
       "      <td>491</td>\n",
       "      <td>132</td>\n",
       "      <td>112</td>\n",
       "    </tr>\n",
       "    <tr>\n",
       "      <th>4</th>\n",
       "      <td>121</td>\n",
       "      <td>1949-05</td>\n",
       "      <td>1949</td>\n",
       "      <td>05</td>\n",
       "      <td>612</td>\n",
       "      <td>132</td>\n",
       "      <td>112</td>\n",
       "    </tr>\n",
       "  </tbody>\n",
       "</table>\n",
       "</div>"
      ],
      "text/plain": [
       "   Passengers     Date  Year Month  cumsum  cummax  cummin\n",
       "0         112  1949-01  1949    01     112     112     112\n",
       "1         118  1949-02  1949    02     230     118     112\n",
       "2         132  1949-03  1949    03     362     132     112\n",
       "3         129  1949-04  1949    04     491     132     112\n",
       "4         121  1949-05  1949    05     612     132     112"
      ]
     },
     "execution_count": 153,
     "metadata": {},
     "output_type": "execute_result"
    }
   ],
   "source": [
    "df.head()"
   ]
  },
  {
   "cell_type": "code",
   "execution_count": 154,
   "metadata": {},
   "outputs": [],
   "source": [
    "df['diff'] = df['Passengers'].diff().fillna(0)"
   ]
  },
  {
   "cell_type": "code",
   "execution_count": 155,
   "metadata": {},
   "outputs": [
    {
     "data": {
      "text/html": [
       "<div>\n",
       "<table border=\"1\" class=\"dataframe\">\n",
       "  <thead>\n",
       "    <tr style=\"text-align: right;\">\n",
       "      <th></th>\n",
       "      <th>Passengers</th>\n",
       "      <th>Date</th>\n",
       "      <th>Year</th>\n",
       "      <th>Month</th>\n",
       "      <th>cumsum</th>\n",
       "      <th>cummax</th>\n",
       "      <th>cummin</th>\n",
       "      <th>diff</th>\n",
       "    </tr>\n",
       "  </thead>\n",
       "  <tbody>\n",
       "    <tr>\n",
       "      <th>0</th>\n",
       "      <td>112</td>\n",
       "      <td>1949-01</td>\n",
       "      <td>1949</td>\n",
       "      <td>01</td>\n",
       "      <td>112</td>\n",
       "      <td>112</td>\n",
       "      <td>112</td>\n",
       "      <td>0.0</td>\n",
       "    </tr>\n",
       "    <tr>\n",
       "      <th>1</th>\n",
       "      <td>118</td>\n",
       "      <td>1949-02</td>\n",
       "      <td>1949</td>\n",
       "      <td>02</td>\n",
       "      <td>230</td>\n",
       "      <td>118</td>\n",
       "      <td>112</td>\n",
       "      <td>6.0</td>\n",
       "    </tr>\n",
       "    <tr>\n",
       "      <th>2</th>\n",
       "      <td>132</td>\n",
       "      <td>1949-03</td>\n",
       "      <td>1949</td>\n",
       "      <td>03</td>\n",
       "      <td>362</td>\n",
       "      <td>132</td>\n",
       "      <td>112</td>\n",
       "      <td>14.0</td>\n",
       "    </tr>\n",
       "    <tr>\n",
       "      <th>3</th>\n",
       "      <td>129</td>\n",
       "      <td>1949-04</td>\n",
       "      <td>1949</td>\n",
       "      <td>04</td>\n",
       "      <td>491</td>\n",
       "      <td>132</td>\n",
       "      <td>112</td>\n",
       "      <td>-3.0</td>\n",
       "    </tr>\n",
       "    <tr>\n",
       "      <th>4</th>\n",
       "      <td>121</td>\n",
       "      <td>1949-05</td>\n",
       "      <td>1949</td>\n",
       "      <td>05</td>\n",
       "      <td>612</td>\n",
       "      <td>132</td>\n",
       "      <td>112</td>\n",
       "      <td>-8.0</td>\n",
       "    </tr>\n",
       "  </tbody>\n",
       "</table>\n",
       "</div>"
      ],
      "text/plain": [
       "   Passengers     Date  Year Month  cumsum  cummax  cummin  diff\n",
       "0         112  1949-01  1949    01     112     112     112   0.0\n",
       "1         118  1949-02  1949    02     230     118     112   6.0\n",
       "2         132  1949-03  1949    03     362     132     112  14.0\n",
       "3         129  1949-04  1949    04     491     132     112  -3.0\n",
       "4         121  1949-05  1949    05     612     132     112  -8.0"
      ]
     },
     "execution_count": 155,
     "metadata": {},
     "output_type": "execute_result"
    }
   ],
   "source": [
    "df.head()"
   ]
  },
  {
   "cell_type": "code",
   "execution_count": 156,
   "metadata": {},
   "outputs": [
    {
     "data": {
      "text/html": [
       "<div>\n",
       "<table border=\"1\" class=\"dataframe\">\n",
       "  <thead>\n",
       "    <tr style=\"text-align: right;\">\n",
       "      <th></th>\n",
       "      <th>Passengers</th>\n",
       "      <th>cumsum</th>\n",
       "      <th>cummax</th>\n",
       "      <th>cummin</th>\n",
       "      <th>diff</th>\n",
       "    </tr>\n",
       "    <tr>\n",
       "      <th>Year</th>\n",
       "      <th></th>\n",
       "      <th></th>\n",
       "      <th></th>\n",
       "      <th></th>\n",
       "      <th></th>\n",
       "    </tr>\n",
       "  </thead>\n",
       "  <tbody>\n",
       "    <tr>\n",
       "      <th>1949</th>\n",
       "      <td>1520</td>\n",
       "      <td>9891</td>\n",
       "      <td>1649</td>\n",
       "      <td>1328</td>\n",
       "      <td>6.0</td>\n",
       "    </tr>\n",
       "    <tr>\n",
       "      <th>1950</th>\n",
       "      <td>1676</td>\n",
       "      <td>28943</td>\n",
       "      <td>1909</td>\n",
       "      <td>1248</td>\n",
       "      <td>22.0</td>\n",
       "    </tr>\n",
       "    <tr>\n",
       "      <th>1951</th>\n",
       "      <td>2042</td>\n",
       "      <td>51480</td>\n",
       "      <td>2246</td>\n",
       "      <td>1248</td>\n",
       "      <td>26.0</td>\n",
       "    </tr>\n",
       "    <tr>\n",
       "      <th>1952</th>\n",
       "      <td>2364</td>\n",
       "      <td>77974</td>\n",
       "      <td>2653</td>\n",
       "      <td>1248</td>\n",
       "      <td>28.0</td>\n",
       "    </tr>\n",
       "    <tr>\n",
       "      <th>1953</th>\n",
       "      <td>2700</td>\n",
       "      <td>108826</td>\n",
       "      <td>3077</td>\n",
       "      <td>1248</td>\n",
       "      <td>7.0</td>\n",
       "    </tr>\n",
       "    <tr>\n",
       "      <th>1954</th>\n",
       "      <td>2867</td>\n",
       "      <td>141888</td>\n",
       "      <td>3444</td>\n",
       "      <td>1248</td>\n",
       "      <td>28.0</td>\n",
       "    </tr>\n",
       "    <tr>\n",
       "      <th>1955</th>\n",
       "      <td>3408</td>\n",
       "      <td>179692</td>\n",
       "      <td>4009</td>\n",
       "      <td>1248</td>\n",
       "      <td>49.0</td>\n",
       "    </tr>\n",
       "    <tr>\n",
       "      <th>1956</th>\n",
       "      <td>3939</td>\n",
       "      <td>224217</td>\n",
       "      <td>4672</td>\n",
       "      <td>1248</td>\n",
       "      <td>28.0</td>\n",
       "    </tr>\n",
       "    <tr>\n",
       "      <th>1957</th>\n",
       "      <td>4421</td>\n",
       "      <td>274497</td>\n",
       "      <td>5287</td>\n",
       "      <td>1248</td>\n",
       "      <td>30.0</td>\n",
       "    </tr>\n",
       "    <tr>\n",
       "      <th>1958</th>\n",
       "      <td>4572</td>\n",
       "      <td>328644</td>\n",
       "      <td>5818</td>\n",
       "      <td>1248</td>\n",
       "      <td>1.0</td>\n",
       "    </tr>\n",
       "    <tr>\n",
       "      <th>1959</th>\n",
       "      <td>5140</td>\n",
       "      <td>386763</td>\n",
       "      <td>6373</td>\n",
       "      <td>1248</td>\n",
       "      <td>68.0</td>\n",
       "    </tr>\n",
       "    <tr>\n",
       "      <th>1960</th>\n",
       "      <td>5714</td>\n",
       "      <td>452342</td>\n",
       "      <td>7086</td>\n",
       "      <td>1248</td>\n",
       "      <td>27.0</td>\n",
       "    </tr>\n",
       "  </tbody>\n",
       "</table>\n",
       "</div>"
      ],
      "text/plain": [
       "      Passengers  cumsum  cummax  cummin  diff\n",
       "Year                                          \n",
       "1949        1520    9891    1649    1328   6.0\n",
       "1950        1676   28943    1909    1248  22.0\n",
       "1951        2042   51480    2246    1248  26.0\n",
       "1952        2364   77974    2653    1248  28.0\n",
       "1953        2700  108826    3077    1248   7.0\n",
       "1954        2867  141888    3444    1248  28.0\n",
       "1955        3408  179692    4009    1248  49.0\n",
       "1956        3939  224217    4672    1248  28.0\n",
       "1957        4421  274497    5287    1248  30.0\n",
       "1958        4572  328644    5818    1248   1.0\n",
       "1959        5140  386763    6373    1248  68.0\n",
       "1960        5714  452342    7086    1248  27.0"
      ]
     },
     "execution_count": 156,
     "metadata": {},
     "output_type": "execute_result"
    }
   ],
   "source": [
    "df.groupby(['Year']).sum()"
   ]
  },
  {
   "cell_type": "code",
   "execution_count": 157,
   "metadata": {},
   "outputs": [
    {
     "data": {
      "text/plain": [
       "0            NaN\n",
       "1       5.357143\n",
       "2      11.864407\n",
       "3      -2.272727\n",
       "4      -6.201550\n",
       "5      11.570248\n",
       "6       9.629630\n",
       "7       0.000000\n",
       "8      -8.108108\n",
       "9     -12.500000\n",
       "10    -12.605042\n",
       "11     13.461538\n",
       "12     -2.542373\n",
       "13      9.565217\n",
       "14     11.904762\n",
       "15     -4.255319\n",
       "16     -7.407407\n",
       "17     19.200000\n",
       "18     14.093960\n",
       "19      0.000000\n",
       "20     -7.058824\n",
       "21    -15.822785\n",
       "22    -14.285714\n",
       "23     22.807018\n",
       "24      3.571429\n",
       "25      3.448276\n",
       "26     18.666667\n",
       "27     -8.426966\n",
       "28      5.521472\n",
       "29      3.488372\n",
       "         ...    \n",
       "114    12.873563\n",
       "115     2.851324\n",
       "116   -20.000000\n",
       "117   -11.138614\n",
       "118   -13.649025\n",
       "119     8.709677\n",
       "120     6.824926\n",
       "121    -5.000000\n",
       "122    18.713450\n",
       "123    -2.463054\n",
       "124     6.060606\n",
       "125    12.380952\n",
       "126    16.101695\n",
       "127     2.007299\n",
       "128   -17.173524\n",
       "129   -12.095032\n",
       "130   -11.056511\n",
       "131    11.878453\n",
       "132     2.962963\n",
       "133    -6.235012\n",
       "134     7.161125\n",
       "135    10.023866\n",
       "136     2.386117\n",
       "137    13.347458\n",
       "138    16.261682\n",
       "139    -2.572347\n",
       "140   -16.171617\n",
       "141    -9.251969\n",
       "142   -15.401302\n",
       "143    10.769231\n",
       "Name: Passengers, dtype: float64"
      ]
     },
     "execution_count": 157,
     "metadata": {},
     "output_type": "execute_result"
    }
   ],
   "source": [
    "df['Passengers'].pct_change().map(lambda x: x*100)"
   ]
  },
  {
   "cell_type": "code",
   "execution_count": 158,
   "metadata": {},
   "outputs": [
    {
     "data": {
      "text/plain": [
       "0       0.000000\n",
       "1       5.357143\n",
       "2      11.864407\n",
       "3      -2.272727\n",
       "4      -6.201550\n",
       "5      11.570248\n",
       "6       9.629630\n",
       "7       0.000000\n",
       "8      -8.108108\n",
       "9     -12.500000\n",
       "10    -12.605042\n",
       "11     13.461538\n",
       "12     -2.542373\n",
       "13      9.565217\n",
       "14     11.904762\n",
       "15     -4.255319\n",
       "16     -7.407407\n",
       "17     19.200000\n",
       "18     14.093960\n",
       "19      0.000000\n",
       "20     -7.058824\n",
       "21    -15.822785\n",
       "22    -14.285714\n",
       "23     22.807018\n",
       "24      3.571429\n",
       "25      3.448276\n",
       "26     18.666667\n",
       "27     -8.426966\n",
       "28      5.521472\n",
       "29      3.488372\n",
       "         ...    \n",
       "114    12.873563\n",
       "115     2.851324\n",
       "116   -20.000000\n",
       "117   -11.138614\n",
       "118   -13.649025\n",
       "119     8.709677\n",
       "120     6.824926\n",
       "121    -5.000000\n",
       "122    18.713450\n",
       "123    -2.463054\n",
       "124     6.060606\n",
       "125    12.380952\n",
       "126    16.101695\n",
       "127     2.007299\n",
       "128   -17.173524\n",
       "129   -12.095032\n",
       "130   -11.056511\n",
       "131    11.878453\n",
       "132     2.962963\n",
       "133    -6.235012\n",
       "134     7.161125\n",
       "135    10.023866\n",
       "136     2.386117\n",
       "137    13.347458\n",
       "138    16.261682\n",
       "139    -2.572347\n",
       "140   -16.171617\n",
       "141    -9.251969\n",
       "142   -15.401302\n",
       "143    10.769231\n",
       "Name: Passengers, dtype: float64"
      ]
     },
     "execution_count": 158,
     "metadata": {},
     "output_type": "execute_result"
    }
   ],
   "source": [
    "df['Passengers'].pct_change().map(lambda x: x*100).fillna(0)"
   ]
  },
  {
   "cell_type": "code",
   "execution_count": 160,
   "metadata": {},
   "outputs": [
    {
     "data": {
      "text/plain": [
       "0          nan \n",
       "1         5.36 \n",
       "2        11.86 \n",
       "3        -2.27 \n",
       "4        -6.20 \n",
       "5        11.57 \n",
       "6         9.63 \n",
       "7         0.00 \n",
       "8        -8.11 \n",
       "9       -12.50 \n",
       "10      -12.61 \n",
       "11       13.46 \n",
       "12       -2.54 \n",
       "13        9.57 \n",
       "14       11.90 \n",
       "15       -4.26 \n",
       "16       -7.41 \n",
       "17       19.20 \n",
       "18       14.09 \n",
       "19        0.00 \n",
       "20       -7.06 \n",
       "21      -15.82 \n",
       "22      -14.29 \n",
       "23       22.81 \n",
       "24        3.57 \n",
       "25        3.45 \n",
       "26       18.67 \n",
       "27       -8.43 \n",
       "28        5.52 \n",
       "29        3.49 \n",
       "         ...   \n",
       "114      12.87 \n",
       "115       2.85 \n",
       "116     -20.00 \n",
       "117     -11.14 \n",
       "118     -13.65 \n",
       "119       8.71 \n",
       "120       6.82 \n",
       "121      -5.00 \n",
       "122      18.71 \n",
       "123      -2.46 \n",
       "124       6.06 \n",
       "125      12.38 \n",
       "126      16.10 \n",
       "127       2.01 \n",
       "128     -17.17 \n",
       "129     -12.10 \n",
       "130     -11.06 \n",
       "131      11.88 \n",
       "132       2.96 \n",
       "133      -6.24 \n",
       "134       7.16 \n",
       "135      10.02 \n",
       "136       2.39 \n",
       "137      13.35 \n",
       "138      16.26 \n",
       "139      -2.57 \n",
       "140     -16.17 \n",
       "141      -9.25 \n",
       "142     -15.40 \n",
       "143      10.77 \n",
       "Name: Passengers, dtype: object"
      ]
     },
     "execution_count": 160,
     "metadata": {},
     "output_type": "execute_result"
    }
   ],
   "source": [
    "df['Passengers'].pct_change().map(lambda x: x*100).map(lambda x: \" %.2f \" % x)"
   ]
  },
  {
   "cell_type": "code",
   "execution_count": 163,
   "metadata": {},
   "outputs": [],
   "source": [
    "passengers_pct_change = df['Passengers'].pct_change().map(lambda x: x*100).map(lambda x: \" %.2f \" % x)"
   ]
  },
  {
   "cell_type": "code",
   "execution_count": 162,
   "metadata": {
    "scrolled": true
   },
   "outputs": [
    {
     "data": {
      "text/html": [
       "<div>\n",
       "<table border=\"1\" class=\"dataframe\">\n",
       "  <thead>\n",
       "    <tr style=\"text-align: right;\">\n",
       "      <th></th>\n",
       "      <th>Passengers</th>\n",
       "      <th>Date</th>\n",
       "      <th>Year</th>\n",
       "      <th>Month</th>\n",
       "      <th>cumsum</th>\n",
       "      <th>cummax</th>\n",
       "      <th>cummin</th>\n",
       "      <th>diff</th>\n",
       "    </tr>\n",
       "  </thead>\n",
       "  <tbody>\n",
       "    <tr>\n",
       "      <th>0</th>\n",
       "      <td>112</td>\n",
       "      <td>1949-01</td>\n",
       "      <td>1949</td>\n",
       "      <td>01</td>\n",
       "      <td>112</td>\n",
       "      <td>112</td>\n",
       "      <td>112</td>\n",
       "      <td>0.0</td>\n",
       "    </tr>\n",
       "    <tr>\n",
       "      <th>1</th>\n",
       "      <td>118</td>\n",
       "      <td>1949-02</td>\n",
       "      <td>1949</td>\n",
       "      <td>02</td>\n",
       "      <td>230</td>\n",
       "      <td>118</td>\n",
       "      <td>112</td>\n",
       "      <td>6.0</td>\n",
       "    </tr>\n",
       "    <tr>\n",
       "      <th>2</th>\n",
       "      <td>132</td>\n",
       "      <td>1949-03</td>\n",
       "      <td>1949</td>\n",
       "      <td>03</td>\n",
       "      <td>362</td>\n",
       "      <td>132</td>\n",
       "      <td>112</td>\n",
       "      <td>14.0</td>\n",
       "    </tr>\n",
       "    <tr>\n",
       "      <th>3</th>\n",
       "      <td>129</td>\n",
       "      <td>1949-04</td>\n",
       "      <td>1949</td>\n",
       "      <td>04</td>\n",
       "      <td>491</td>\n",
       "      <td>132</td>\n",
       "      <td>112</td>\n",
       "      <td>-3.0</td>\n",
       "    </tr>\n",
       "    <tr>\n",
       "      <th>4</th>\n",
       "      <td>121</td>\n",
       "      <td>1949-05</td>\n",
       "      <td>1949</td>\n",
       "      <td>05</td>\n",
       "      <td>612</td>\n",
       "      <td>132</td>\n",
       "      <td>112</td>\n",
       "      <td>-8.0</td>\n",
       "    </tr>\n",
       "  </tbody>\n",
       "</table>\n",
       "</div>"
      ],
      "text/plain": [
       "   Passengers     Date  Year Month  cumsum  cummax  cummin  diff\n",
       "0         112  1949-01  1949    01     112     112     112   0.0\n",
       "1         118  1949-02  1949    02     230     118     112   6.0\n",
       "2         132  1949-03  1949    03     362     132     112  14.0\n",
       "3         129  1949-04  1949    04     491     132     112  -3.0\n",
       "4         121  1949-05  1949    05     612     132     112  -8.0"
      ]
     },
     "execution_count": 162,
     "metadata": {},
     "output_type": "execute_result"
    }
   ],
   "source": [
    "df.head()"
   ]
  },
  {
   "cell_type": "code",
   "execution_count": 164,
   "metadata": {},
   "outputs": [],
   "source": [
    "df['pct_change'] = passengers_pct_change"
   ]
  },
  {
   "cell_type": "code",
   "execution_count": 165,
   "metadata": {},
   "outputs": [
    {
     "data": {
      "text/html": [
       "<div>\n",
       "<table border=\"1\" class=\"dataframe\">\n",
       "  <thead>\n",
       "    <tr style=\"text-align: right;\">\n",
       "      <th></th>\n",
       "      <th>Passengers</th>\n",
       "      <th>Date</th>\n",
       "      <th>Year</th>\n",
       "      <th>Month</th>\n",
       "      <th>cumsum</th>\n",
       "      <th>cummax</th>\n",
       "      <th>cummin</th>\n",
       "      <th>diff</th>\n",
       "      <th>pct_change</th>\n",
       "    </tr>\n",
       "  </thead>\n",
       "  <tbody>\n",
       "    <tr>\n",
       "      <th>0</th>\n",
       "      <td>112</td>\n",
       "      <td>1949-01</td>\n",
       "      <td>1949</td>\n",
       "      <td>01</td>\n",
       "      <td>112</td>\n",
       "      <td>112</td>\n",
       "      <td>112</td>\n",
       "      <td>0.0</td>\n",
       "      <td>nan</td>\n",
       "    </tr>\n",
       "    <tr>\n",
       "      <th>1</th>\n",
       "      <td>118</td>\n",
       "      <td>1949-02</td>\n",
       "      <td>1949</td>\n",
       "      <td>02</td>\n",
       "      <td>230</td>\n",
       "      <td>118</td>\n",
       "      <td>112</td>\n",
       "      <td>6.0</td>\n",
       "      <td>5.36</td>\n",
       "    </tr>\n",
       "    <tr>\n",
       "      <th>2</th>\n",
       "      <td>132</td>\n",
       "      <td>1949-03</td>\n",
       "      <td>1949</td>\n",
       "      <td>03</td>\n",
       "      <td>362</td>\n",
       "      <td>132</td>\n",
       "      <td>112</td>\n",
       "      <td>14.0</td>\n",
       "      <td>11.86</td>\n",
       "    </tr>\n",
       "    <tr>\n",
       "      <th>3</th>\n",
       "      <td>129</td>\n",
       "      <td>1949-04</td>\n",
       "      <td>1949</td>\n",
       "      <td>04</td>\n",
       "      <td>491</td>\n",
       "      <td>132</td>\n",
       "      <td>112</td>\n",
       "      <td>-3.0</td>\n",
       "      <td>-2.27</td>\n",
       "    </tr>\n",
       "    <tr>\n",
       "      <th>4</th>\n",
       "      <td>121</td>\n",
       "      <td>1949-05</td>\n",
       "      <td>1949</td>\n",
       "      <td>05</td>\n",
       "      <td>612</td>\n",
       "      <td>132</td>\n",
       "      <td>112</td>\n",
       "      <td>-8.0</td>\n",
       "      <td>-6.20</td>\n",
       "    </tr>\n",
       "  </tbody>\n",
       "</table>\n",
       "</div>"
      ],
      "text/plain": [
       "   Passengers     Date  Year Month  cumsum  cummax  cummin  diff pct_change\n",
       "0         112  1949-01  1949    01     112     112     112   0.0       nan \n",
       "1         118  1949-02  1949    02     230     118     112   6.0      5.36 \n",
       "2         132  1949-03  1949    03     362     132     112  14.0     11.86 \n",
       "3         129  1949-04  1949    04     491     132     112  -3.0     -2.27 \n",
       "4         121  1949-05  1949    05     612     132     112  -8.0     -6.20 "
      ]
     },
     "execution_count": 165,
     "metadata": {},
     "output_type": "execute_result"
    }
   ],
   "source": [
    "df.head()"
   ]
  },
  {
   "cell_type": "code",
   "execution_count": 167,
   "metadata": {},
   "outputs": [],
   "source": [
    "grouped_year = df.groupby(['Year']).sum()"
   ]
  },
  {
   "cell_type": "code",
   "execution_count": 181,
   "metadata": {
    "scrolled": true
   },
   "outputs": [
    {
     "data": {
      "text/plain": [
       "0          nan \n",
       "1         5.36 \n",
       "2        11.86 \n",
       "3        -2.27 \n",
       "4        -6.20 \n",
       "5        11.57 \n",
       "6         9.63 \n",
       "7         0.00 \n",
       "8        -8.11 \n",
       "9       -12.50 \n",
       "10      -12.61 \n",
       "11       13.46 \n",
       "12       -2.54 \n",
       "13        9.57 \n",
       "14       11.90 \n",
       "15       -4.26 \n",
       "16       -7.41 \n",
       "17       19.20 \n",
       "18       14.09 \n",
       "19        0.00 \n",
       "20       -7.06 \n",
       "21      -15.82 \n",
       "22      -14.29 \n",
       "23       22.81 \n",
       "24        3.57 \n",
       "25        3.45 \n",
       "26       18.67 \n",
       "27       -8.43 \n",
       "28        5.52 \n",
       "29        3.49 \n",
       "         ...   \n",
       "114      12.87 \n",
       "115       2.85 \n",
       "116     -20.00 \n",
       "117     -11.14 \n",
       "118     -13.65 \n",
       "119       8.71 \n",
       "120       6.82 \n",
       "121      -5.00 \n",
       "122      18.71 \n",
       "123      -2.46 \n",
       "124       6.06 \n",
       "125      12.38 \n",
       "126      16.10 \n",
       "127       2.01 \n",
       "128     -17.17 \n",
       "129     -12.10 \n",
       "130     -11.06 \n",
       "131      11.88 \n",
       "132       2.96 \n",
       "133      -6.24 \n",
       "134       7.16 \n",
       "135      10.02 \n",
       "136       2.39 \n",
       "137      13.35 \n",
       "138      16.26 \n",
       "139      -2.57 \n",
       "140     -16.17 \n",
       "141      -9.25 \n",
       "142     -15.40 \n",
       "143      10.77 \n",
       "Name: pct_change, dtype: object"
      ]
     },
     "execution_count": 181,
     "metadata": {},
     "output_type": "execute_result"
    }
   ],
   "source": [
    "df['pct_change'].fillna(0)"
   ]
  },
  {
   "cell_type": "code",
   "execution_count": 184,
   "metadata": {},
   "outputs": [
    {
     "data": {
      "text/plain": [
       "pandas.core.series.Series"
      ]
     },
     "execution_count": 184,
     "metadata": {},
     "output_type": "execute_result"
    }
   ],
   "source": [
    "type(df['pct_change'])"
   ]
  },
  {
   "cell_type": "code",
   "execution_count": null,
   "metadata": {},
   "outputs": [],
   "source": []
  }
 ],
 "metadata": {
  "kernelspec": {
   "display_name": "Python 3",
   "language": "python",
   "name": "python3"
  },
  "language_info": {
   "codemirror_mode": {
    "name": "ipython",
    "version": 3
   },
   "file_extension": ".py",
   "mimetype": "text/x-python",
   "name": "python",
   "nbconvert_exporter": "python",
   "pygments_lexer": "ipython3",
   "version": "3.5.5"
  }
 },
 "nbformat": 4,
 "nbformat_minor": 2
}
